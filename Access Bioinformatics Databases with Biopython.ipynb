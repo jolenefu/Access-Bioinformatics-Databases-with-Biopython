{
 "cells": [
  {
   "cell_type": "markdown",
   "metadata": {
    "slideshow": {
     "slide_type": "slide"
    }
   },
   "source": [
    "# ACCESS BIOINFORMATICS DATABASES WITH BIO-PYTHON"
   ]
  },
  {
   "cell_type": "markdown",
   "metadata": {
    "slideshow": {
     "slide_type": "fragment"
    }
   },
   "source": [
    "**This project is aimed to deploy python-based programming pipelines and scripts to automate biological data retrieval and analysis.**"
   ]
  },
  {
   "cell_type": "markdown",
   "metadata": {
    "slideshow": {
     "slide_type": "fragment"
    }
   },
   "source": [
    "1. [NCBI](#1.-NCBI)<br>\n",
    "    1.1. [Nucleotide BLAST](#1.1.-Nucleotide-BLAST)<br>\n",
    "    1.2. [Protein BLAST](#1.2.-Protein-BLAST)\n",
    "    \n",
    "2. [ENTREZ](#2.-ENTREZ)<br>\n",
    "    2.1. [PUBMED](#2.1.-PUBMED)<br>\n",
    "    2.2. [Nucleotide](#2.2.-Nucleotide)\n",
    "    \n",
    "3. [PDB](#3.-PDB)\n",
    "\n",
    "4. [EXPASY](#4.-EXPASY)<br>\n",
    "    4.1. [PROSITE](#4.1.-PROSITE)<br>\n",
    "    \n",
    "5. [KEGG](#5.-KEGG)"
   ]
  },
  {
   "cell_type": "markdown",
   "metadata": {
    "slideshow": {
     "slide_type": "slide"
    }
   },
   "source": [
    "# 1. NCBI"
   ]
  },
  {
   "cell_type": "markdown",
   "metadata": {
    "slideshow": {
     "slide_type": "fragment"
    }
   },
   "source": [
    "**This section uses the NCBI module from Biopyton to perform BLAST (Basic Local Alignment Search Tool). This finds regions of local similarity between sequences from the NCBI databse. It is a preliminary analysis in identifying the strain, species, or the source, to which our isolated sequence belongs to or is closely related.**"
   ]
  },
  {
   "cell_type": "markdown",
   "metadata": {
    "slideshow": {
     "slide_type": "slide"
    }
   },
   "source": [
    "### Import Modules"
   ]
  },
  {
   "cell_type": "code",
   "execution_count": 19,
   "metadata": {
    "slideshow": {
     "slide_type": "fragment"
    }
   },
   "outputs": [],
   "source": [
    "from Bio.Blast import NCBIWWW\n",
    "from Bio import SeqIO, SearchIO"
   ]
  },
  {
   "cell_type": "markdown",
   "metadata": {
    "slideshow": {
     "slide_type": "slide"
    }
   },
   "source": [
    "# 1.1. Nucleotide BLAST"
   ]
  },
  {
   "cell_type": "markdown",
   "metadata": {
    "slideshow": {
     "slide_type": "fragment"
    }
   },
   "source": [
    "**First, I performed nucleotide BLAST using the nucleotide sequence stored in the nuc_seq.fasta file.**\n",
    "**As shown, the sequence is 774 base pairs long:**"
   ]
  },
  {
   "cell_type": "code",
   "execution_count": 20,
   "metadata": {
    "slideshow": {
     "slide_type": "fragment"
    }
   },
   "outputs": [
    {
     "data": {
      "text/plain": [
       "774"
      ]
     },
     "execution_count": 20,
     "metadata": {},
     "output_type": "execute_result"
    }
   ],
   "source": [
    "nuc_record = SeqIO.read(\"nuc_seq.fasta\", format = \"fasta\")\n",
    "len(nuc_record)"
   ]
  },
  {
   "cell_type": "markdown",
   "metadata": {
    "slideshow": {
     "slide_type": "slide"
    }
   },
   "source": [
    "**We can access various parts of the sequences file. The file is composed of two lines: the description and the sequence.**\n",
    "\n",
    "**1. The description:**"
   ]
  },
  {
   "cell_type": "code",
   "execution_count": 21,
   "metadata": {
    "slideshow": {
     "slide_type": "fragment"
    }
   },
   "outputs": [
    {
     "data": {
      "text/plain": [
       "'MT598137.1 Severe acute respiratory syndrome coronavirus 2 isolate SARS-CoV-2/human/IRN/PN-2142-S/2020 surface glycoprotein (S) gene, partial cds'"
      ]
     },
     "execution_count": 21,
     "metadata": {},
     "output_type": "execute_result"
    }
   ],
   "source": [
    "nuc_record.description"
   ]
  },
  {
   "cell_type": "markdown",
   "metadata": {
    "slideshow": {
     "slide_type": "fragment"
    }
   },
   "source": [
    "**Our sequence is a gene encoding surface glycoprotein SARS-CoV-2 isolate.**"
   ]
  },
  {
   "cell_type": "markdown",
   "metadata": {
    "slideshow": {
     "slide_type": "slide"
    }
   },
   "source": [
    "**2. The sequence:**"
   ]
  },
  {
   "cell_type": "code",
   "execution_count": 22,
   "metadata": {
    "slideshow": {
     "slide_type": "fragment"
    }
   },
   "outputs": [
    {
     "data": {
      "text/plain": [
       "Seq('ATCGCTCCAGGGCAAACTGGAAAGATTGCTGATTATAATTATAAATTACCAGAT...GGT')"
      ]
     },
     "execution_count": 22,
     "metadata": {},
     "output_type": "execute_result"
    }
   ],
   "source": [
    "nuc_record.seq"
   ]
  },
  {
   "cell_type": "markdown",
   "metadata": {
    "slideshow": {
     "slide_type": "slide"
    }
   },
   "source": [
    "### Now we perform blast!"
   ]
  },
  {
   "cell_type": "markdown",
   "metadata": {
    "slideshow": {
     "slide_type": "fragment"
    }
   },
   "source": [
    "**The module takes in three parameters:\n",
    "    1. 'blastn'which stands for BLAST nucleotide.\n",
    "    2. The database used it 'nt' which stands for nucleotide.\n",
    "    3. 'nuc_record.seq' which is our record.**\n",
    "    \n",
    "**The SEarchIO Biopython module is used to read in the results of our BLAST.**"
   ]
  },
  {
   "cell_type": "code",
   "execution_count": 23,
   "metadata": {
    "slideshow": {
     "slide_type": "fragment"
    }
   },
   "outputs": [
    {
     "name": "stderr",
     "output_type": "stream",
     "text": [
      "C:\\Users\\fxy40\\anaconda3\\lib\\site-packages\\Bio\\SearchIO\\_legacy\\__init__.py:12: BiopythonDeprecationWarning: The 'Bio.SearchIO._legacy' module for parsing BLAST plain text output is deprecated and will be removed in a future release of Biopython. Consider generating your BLAST output for parsing as XML or tabular format instead.\n",
      "  warnings.warn(\n"
     ]
    }
   ],
   "source": [
    "result_handle = NCBIWWW.qblast(\"blastn\",\"nt\",nuc_record.seq)\n",
    "blast_result = SearchIO.read(result_handle,\"blast-xml\")"
   ]
  },
  {
   "cell_type": "markdown",
   "metadata": {
    "slideshow": {
     "slide_type": "slide"
    }
   },
   "source": [
    "**I used the Python indexing technique to print out the first two results:**"
   ]
  },
  {
   "cell_type": "code",
   "execution_count": 24,
   "metadata": {
    "slideshow": {
     "slide_type": "fragment"
    }
   },
   "outputs": [
    {
     "name": "stdout",
     "output_type": "stream",
     "text": [
      "Program: blastn (2.14.1+)\n",
      "  Query: No (774)\n",
      "         definition line\n",
      " Target: nt\n",
      "   Hits: ----  -----  ----------------------------------------------------------\n",
      "            #  # HSP  ID + description\n",
      "         ----  -----  ----------------------------------------------------------\n",
      "            0      1  gi|2529195153|gb|OR223350.1|  Severe acute respiratory ...\n",
      "            1      1  gi|2529195140|gb|OR223349.1|  Severe acute respiratory ...\n"
     ]
    }
   ],
   "source": [
    "print(blast_result[0:2])"
   ]
  },
  {
   "cell_type": "markdown",
   "metadata": {
    "slideshow": {
     "slide_type": "slide"
    }
   },
   "source": [
    "**Usually, the first hit the the BLAST constitutes the best match. Hence, we will fetch more details about the first sequence from the BLAST results.**"
   ]
  },
  {
   "cell_type": "code",
   "execution_count": 25,
   "metadata": {
    "slideshow": {
     "slide_type": "fragment"
    }
   },
   "outputs": [
    {
     "name": "stdout",
     "output_type": "stream",
     "text": [
      "Sequence ID: gi|2529195153|gb|OR223350.1|\n",
      "Sequence Description: Severe acute respiratory syndrome coronavirus 2 isolate SARS-CoV-2/human/USA/WA-UW143/2020 ORF1ab polyprotein (ORF1ab), ORF1a polyprotein (ORF1ab), surface glycoprotein (S), ORF3a protein (ORF3a), envelope protein (E), membrane glycoprotein (M), ORF6 protein (ORF6), ORF7a protein (ORF7a), ORF7b (ORF7b), ORF8 protein (ORF8), nucleocapsid phosphoprotein (N), and ORF10 protein (ORF10) genes, complete cds\n",
      "E-value: 0.0\n"
     ]
    }
   ],
   "source": [
    "Seq = blast_result[0]\n",
    "print(f\"Sequence ID: {Seq.id}\")\n",
    "print(f\"Sequence Description: {Seq.description}\")\n",
    "\n",
    "details = Seq[0]\n",
    "print(f\"E-value: {details.evalue}\")"
   ]
  },
  {
   "cell_type": "markdown",
   "metadata": {
    "slideshow": {
     "slide_type": "slide"
    }
   },
   "source": [
    "**A low value for a sequence of considerable length is considered as optimal. Here, the E-valye is 0.0. Therefore, the sequence is an exct or a very closely related match to our sequence.**"
   ]
  },
  {
   "cell_type": "code",
   "execution_count": 26,
   "metadata": {
    "slideshow": {
     "slide_type": "fragment"
    }
   },
   "outputs": [
    {
     "name": "stdout",
     "output_type": "stream",
     "text": [
      "alignment:\n",
      "Alignment with 2 rows and 774 columns\n",
      "ATCGCTCCAGGGCAAACTGGAAAGATTGCTGATTATAATTATAA...GGT No\n",
      "ATCGCTCCAGGGCAAACTGGAAAGATTGCTGATTATAATTATAA...GGT gi|2529195153|gb|OR223350.1|\n"
     ]
    }
   ],
   "source": [
    "print(f\"alignment:\\n{details.aln}\")"
   ]
  },
  {
   "cell_type": "markdown",
   "metadata": {
    "slideshow": {
     "slide_type": "fragment"
    }
   },
   "source": [
    "**This gives us the alignment of the two sequences, with the top one being the query sequence which we used, and the bottom the result which we got.**"
   ]
  },
  {
   "cell_type": "markdown",
   "metadata": {
    "slideshow": {
     "slide_type": "slide"
    }
   },
   "source": [
    "## 1.2. Protein BLAST"
   ]
  },
  {
   "cell_type": "code",
   "execution_count": 27,
   "metadata": {
    "slideshow": {
     "slide_type": "fragment"
    }
   },
   "outputs": [
    {
     "data": {
      "text/plain": [
       "258"
      ]
     },
     "execution_count": 27,
     "metadata": {},
     "output_type": "execute_result"
    }
   ],
   "source": [
    "prot_record = SeqIO.read(\"prot_seq.fasta\", format=\"fasta\")\n",
    "len(prot_record)"
   ]
  },
  {
   "cell_type": "markdown",
   "metadata": {
    "slideshow": {
     "slide_type": "fragment"
    }
   },
   "source": [
    "**Length of the protein sequence: 258 amino acids.**\n",
    "    \n",
    "**This module also takes three parameters:\n",
    "    1. 'blastp' stands for BLAST protein.\n",
    "    2. The database used it PDB.\n",
    "    3. 'prot_record.seq' is our protein record.**"
   ]
  },
  {
   "cell_type": "code",
   "execution_count": 28,
   "metadata": {
    "slideshow": {
     "slide_type": "fragment"
    }
   },
   "outputs": [],
   "source": [
    "result_handle = NCBIWWW.qblast(\"blastp\", \"pdb\", prot_record.seq)\n",
    "blast_result = SearchIO.read(result_handle, \"blast-xml\")"
   ]
  },
  {
   "cell_type": "markdown",
   "metadata": {
    "slideshow": {
     "slide_type": "slide"
    }
   },
   "source": [
    "**The first two results are fetched by running the next two cells:**"
   ]
  },
  {
   "cell_type": "code",
   "execution_count": 29,
   "metadata": {
    "slideshow": {
     "slide_type": "fragment"
    }
   },
   "outputs": [
    {
     "name": "stdout",
     "output_type": "stream",
     "text": [
      "Program: blastp (2.14.1+)\n",
      "  Query: unnamed (258)\n",
      "         protein product\n",
      " Target: pdb\n",
      "   Hits: ----  -----  ----------------------------------------------------------\n",
      "            #  # HSP  ID + description\n",
      "         ----  -----  ----------------------------------------------------------\n",
      "            0      1  pdb|7CAB|A  Chain A, Spike glycoprotein [Severe acute r...\n",
      "            1      1  pdb|7R4I|A  Chain A, Spike glycoprotein [Severe acute r...\n"
     ]
    }
   ],
   "source": [
    "print(blast_result[0:2])"
   ]
  },
  {
   "cell_type": "markdown",
   "metadata": {
    "slideshow": {
     "slide_type": "slide"
    }
   },
   "source": [
    "**Our protein sequence corresponds to two matches which have the greatest similarity, among which we fetch the first result:**"
   ]
  },
  {
   "cell_type": "code",
   "execution_count": 30,
   "metadata": {
    "slideshow": {
     "slide_type": "fragment"
    }
   },
   "outputs": [
    {
     "name": "stdout",
     "output_type": "stream",
     "text": [
      "Sequence ID: pdb|7CAB|A\n",
      "Sequence Description: Chain A, Spike glycoprotein [Severe acute respiratory syndrome coronavirus 2]\n",
      "E-value: 0.0\n"
     ]
    }
   ],
   "source": [
    "Seq = blast_result [0]\n",
    "print(f\"Sequence ID: {Seq.id}\")\n",
    "print(f\"Sequence Description: {Seq.description}\")\n",
    "\n",
    "details = Seq[0]\n",
    "print(f\"E-value: {details.evalue}\")"
   ]
  },
  {
   "cell_type": "markdown",
   "metadata": {
    "slideshow": {
     "slide_type": "slide"
    }
   },
   "source": [
    "**To check for alignment, I ran this cell which returned the alignment of our sequence against the results fetched using BLAST.**"
   ]
  },
  {
   "cell_type": "code",
   "execution_count": 31,
   "metadata": {
    "slideshow": {
     "slide_type": "fragment"
    }
   },
   "outputs": [
    {
     "name": "stdout",
     "output_type": "stream",
     "text": [
      "alignment:\n",
      " Alignment with 2 rows and 258 columns\n",
      "IAPGQTGKIADYNYKLPDDFTGCVIAWNSNNLDSKVGGNYNYLY...PIG unnamed\n",
      "IAPGQTGKIADYNYKLPDDFTGCVIAWNSNNLDSKVGGNYNYLY...PIG pdb|7CAB|A\n"
     ]
    }
   ],
   "source": [
    "print(f\"alignment:\\n {details.aln}\")"
   ]
  },
  {
   "cell_type": "markdown",
   "metadata": {
    "slideshow": {
     "slide_type": "slide"
    }
   },
   "source": [
    "# 2. ENTREZ"
   ]
  },
  {
   "cell_type": "markdown",
   "metadata": {},
   "source": [
    "This section fetches PUBMED literature and nucleotide sequences using ENTREZ.\n",
    "ENTREZ is NCBI's primary text search and retrieval system that integrates the PUBMED database of biomedical literature wtih 38 other literature and molecular databases, including DNA and protein sequences, structure, gene, genome, genetic variation and gene expression."
   ]
  },
  {
   "cell_type": "markdown",
   "metadata": {},
   "source": [
    "### Import Modules"
   ]
  },
  {
   "cell_type": "code",
   "execution_count": 32,
   "metadata": {},
   "outputs": [],
   "source": [
    "from Bio import Entrez"
   ]
  },
  {
   "cell_type": "markdown",
   "metadata": {},
   "source": [
    "Below gives the details about the kind of parameters the Entrez module can use, and the kind of data we can fetch using this module."
   ]
  },
  {
   "cell_type": "code",
   "execution_count": 33,
   "metadata": {},
   "outputs": [
    {
     "name": "stdout",
     "output_type": "stream",
     "text": [
      "Help on package Bio.Entrez in Bio:\n",
      "\n",
      "NAME\n",
      "    Bio.Entrez - Provides code to access NCBI over the WWW.\n",
      "\n",
      "DESCRIPTION\n",
      "    The main Entrez web page is available at:\n",
      "    http://www.ncbi.nlm.nih.gov/Entrez/\n",
      "    \n",
      "    Entrez Programming Utilities web page is available at:\n",
      "    http://www.ncbi.nlm.nih.gov/books/NBK25501/\n",
      "    \n",
      "    This module provides a number of functions like ``efetch`` (short for\n",
      "    Entrez Fetch) which will return the data as a handle object. This is\n",
      "    a standard interface used in Python for reading data from a file, or\n",
      "    in this case a remote network connection, and provides methods like\n",
      "    ``.read()`` or offers iteration over the contents line by line. See\n",
      "    also \"What the heck is a handle?\" in the Biopython Tutorial and\n",
      "    Cookbook: http://biopython.org/DIST/docs/tutorial/Tutorial.html\n",
      "    http://biopython.org/DIST/docs/tutorial/Tutorial.pdf\n",
      "    The handle returned by these functions can be either in text mode or\n",
      "    in binary mode, depending on the data requested and the results\n",
      "    returned by NCBI Entrez. Typically, XML data will be in binary mode\n",
      "    while other data will be in text mode, as required by the downstream\n",
      "    parser to parse the data.\n",
      "    \n",
      "    Unlike a handle to a file on disk from the ``open(filename)`` function,\n",
      "    which has a ``.name`` attribute giving the filename, the handles from\n",
      "    ``Bio.Entrez`` all have a ``.url`` attribute instead giving the URL\n",
      "    used to connect to the NCBI Entrez API.\n",
      "    \n",
      "    The ``epost``, ``efetch``, and ``esummary`` tools take an \"id\" parameter\n",
      "    which corresponds to one or more database UIDs (or accession.version\n",
      "    identifiers in the case of sequence databases such as \"nuccore\" or\n",
      "    \"protein\"). The Python value of the \"id\" keyword passed to these functions\n",
      "    may be either a single ID as a string or integer or multiple IDs as an\n",
      "    iterable of strings/integers. You may also pass a single string containing\n",
      "    multiple IDs delimited by commas. The ``elink`` tool also accepts multiple\n",
      "    IDs but the argument is handled differently than the other three. See that\n",
      "    function's docstring for more information.\n",
      "    \n",
      "    All the functions that send requests to the NCBI Entrez API will\n",
      "    automatically respect the NCBI rate limit (of 3 requests per second\n",
      "    without an API key, or 10 requests per second with an API key) and\n",
      "    will automatically retry when encountering transient failures\n",
      "    (i.e. connection failures or HTTP 5XX codes). By default, Biopython\n",
      "    does a maximum of three tries before giving up, and sleeps for 15\n",
      "    seconds between tries. You can tweak these parameters by setting\n",
      "    ``Bio.Entrez.max_tries`` and ``Bio.Entrez.sleep_between_tries``.\n",
      "    \n",
      "    The Entrez module also provides an XML parser which takes a handle\n",
      "    as input.\n",
      "    \n",
      "    Variables:\n",
      "    \n",
      "        - email        Set the Entrez email parameter (default is not set).\n",
      "        - tool         Set the Entrez tool parameter (default is ``biopython``).\n",
      "        - api_key      Personal API key from NCBI. If not set, only 3 queries per\n",
      "          second are allowed. 10 queries per seconds otherwise with a\n",
      "          valid API key.\n",
      "        - max_tries    Configures how many times failed requests will be\n",
      "          automatically retried on error (default is 3).\n",
      "        - sleep_between_tries   The delay, in seconds, before retrying a request on\n",
      "          error (default is 15).\n",
      "    \n",
      "    Functions:\n",
      "    \n",
      "        - efetch       Retrieves records in the requested format from a list of one or\n",
      "          more primary IDs or from the user's environment\n",
      "        - epost        Posts a file containing a list of primary IDs for future use in\n",
      "          the user's environment to use with subsequent search strategies\n",
      "        - esearch      Searches and retrieves primary IDs (for use in EFetch, ELink,\n",
      "          and ESummary) and term translations and optionally retains\n",
      "          results for future use in the user's environment.\n",
      "        - elink        Checks for the existence of an external or Related Articles link\n",
      "          from a list of one or more primary IDs.  Retrieves primary IDs\n",
      "          and relevancy scores for links to Entrez databases or Related\n",
      "          Articles;  creates a hyperlink to the primary LinkOut provider\n",
      "          for a specific ID and database, or lists LinkOut URLs\n",
      "          and Attributes for multiple IDs.\n",
      "        - einfo        Provides field index term counts, last update, and available\n",
      "          links for each database.\n",
      "        - esummary     Retrieves document summaries from a list of primary IDs or from\n",
      "          the user's environment.\n",
      "        - egquery      Provides Entrez database counts in XML for a single search\n",
      "          using Global Query.\n",
      "        - espell       Retrieves spelling suggestions.\n",
      "        - ecitmatch    Retrieves PubMed IDs (PMIDs) that correspond to a set of\n",
      "          input citation strings.\n",
      "    \n",
      "        - read         Parses the XML results returned by any of the above functions.\n",
      "          Alternatively, the XML data can be read from a file opened in binary mode.\n",
      "          Typical usage is:\n",
      "    \n",
      "              >>> from Bio import Entrez\n",
      "              >>> Entrez.email = \"Your.Name.Here@example.org\"\n",
      "              >>> handle = Entrez.einfo() # or esearch, efetch, ...\n",
      "              >>> record = Entrez.read(handle)\n",
      "              >>> handle.close()\n",
      "    \n",
      "           where record is now a Python dictionary or list.\n",
      "    \n",
      "        - parse        Parses the XML results returned by those of the above functions\n",
      "          which can return multiple records - such as efetch, esummary\n",
      "          and elink. Typical usage is:\n",
      "    \n",
      "              >>> handle = Entrez.esummary(db=\"pubmed\", id=\"19304878,14630660\", retmode=\"xml\")\n",
      "              >>> records = Entrez.parse(handle)\n",
      "              >>> for record in records:\n",
      "              ...     # each record is a Python dictionary or list.\n",
      "              ...     print(record['Title'])\n",
      "              Biopython: freely available Python tools for computational molecular biology and bioinformatics.\n",
      "              PDB file parser and structure class implemented in Python.\n",
      "              >>> handle.close()\n",
      "    \n",
      "          This function is appropriate only if the XML file contains\n",
      "          multiple records, and is particular useful for large files.\n",
      "    \n",
      "        - _open        Internally used function.\n",
      "\n",
      "PACKAGE CONTENTS\n",
      "    Parser\n",
      "\n",
      "FUNCTIONS\n",
      "    ecitmatch(**keywds)\n",
      "        Retrieve PMIDs for input citation strings, returned as a handle.\n",
      "        \n",
      "        ECitMatch retrieves PubMed IDs (PMIDs) that correspond to a set of input\n",
      "        citation strings.\n",
      "        \n",
      "        See the online documentation for an explanation of the parameters:\n",
      "        http://www.ncbi.nlm.nih.gov/books/NBK25499/#chapter4.ECitMatch\n",
      "        \n",
      "        Short example:\n",
      "        \n",
      "        >>> from Bio import Entrez\n",
      "        >>> Entrez.email = \"Your.Name.Here@example.org\"\n",
      "        >>> citation_1 = {\"journal_title\": \"proc natl acad sci u s a\",\n",
      "        ...               \"year\": \"1991\", \"volume\": \"88\", \"first_page\": \"3248\",\n",
      "        ...               \"author_name\": \"mann bj\", \"key\": \"citation_1\"}\n",
      "        >>> handle = Entrez.ecitmatch(db=\"pubmed\", bdata=[citation_1])\n",
      "        >>> print(handle.read().strip().split(\"|\"))\n",
      "        ['proc natl acad sci u s a', '1991', '88', '3248', 'mann bj', 'citation_1', '2014248']\n",
      "        >>> handle.close()\n",
      "        \n",
      "        :returns: Handle to the results, by default in plain text.\n",
      "        :raises urllib.error.URLError: If there's a network error.\n",
      "    \n",
      "    efetch(db, **keywords)\n",
      "        Fetch Entrez results which are returned as a handle.\n",
      "        \n",
      "        EFetch retrieves records in the requested format from a list or set of one or\n",
      "        more UIs or from user's environment.\n",
      "        \n",
      "        See the online documentation for an explanation of the parameters:\n",
      "        http://www.ncbi.nlm.nih.gov/books/NBK25499/#chapter4.EFetch\n",
      "        \n",
      "        Short example:\n",
      "        \n",
      "        >>> from Bio import Entrez\n",
      "        >>> Entrez.email = \"Your.Name.Here@example.org\"\n",
      "        >>> handle = Entrez.efetch(db=\"nucleotide\", id=\"AY851612\", rettype=\"gb\", retmode=\"text\")\n",
      "        >>> print(handle.readline().strip())\n",
      "        LOCUS       AY851612                 892 bp    DNA     linear   PLN 10-APR-2007\n",
      "        >>> handle.close()\n",
      "        \n",
      "        This will automatically use an HTTP POST rather than HTTP GET if there\n",
      "        are over 200 identifiers as recommended by the NCBI.\n",
      "        \n",
      "        **Warning:** The NCBI changed the default retmode in Feb 2012, so many\n",
      "        databases which previously returned text output now give XML.\n",
      "        \n",
      "        :returns: Handle to the results.\n",
      "        :raises urllib.error.URLError: If there's a network error.\n",
      "    \n",
      "    egquery(**keywds)\n",
      "        Provide Entrez database counts for a global search.\n",
      "        \n",
      "        EGQuery provides Entrez database counts in XML for a single search\n",
      "        using Global Query.\n",
      "        \n",
      "        See the online documentation for an explanation of the parameters:\n",
      "        http://www.ncbi.nlm.nih.gov/books/NBK25499/#chapter4.EGQuery\n",
      "        \n",
      "        This quick example based on a longer version from the Biopython\n",
      "        Tutorial just checks there are over 60 matches for 'Biopython'\n",
      "        in PubMedCentral:\n",
      "        \n",
      "        >>> from Bio import Entrez\n",
      "        >>> Entrez.email = \"Your.Name.Here@example.org\"\n",
      "        >>> handle = Entrez.egquery(term=\"biopython\")\n",
      "        >>> record = Entrez.read(handle)\n",
      "        >>> handle.close()\n",
      "        >>> for row in record[\"eGQueryResult\"]:\n",
      "        ...     if \"pmc\" in row[\"DbName\"]:\n",
      "        ...         print(int(row[\"Count\"]) > 60)\n",
      "        True\n",
      "        \n",
      "        :returns: Handle to the results, by default in XML format.\n",
      "        :raises urllib.error.URLError: If there's a network error.\n",
      "    \n",
      "    einfo(**keywds)\n",
      "        Return a summary of the Entrez databases as a results handle.\n",
      "        \n",
      "        EInfo provides field names, index term counts, last update, and\n",
      "        available links for each Entrez database.\n",
      "        \n",
      "        See the online documentation for an explanation of the parameters:\n",
      "        http://www.ncbi.nlm.nih.gov/books/NBK25499/#chapter4.EInfo\n",
      "        \n",
      "        Short example:\n",
      "        \n",
      "        >>> from Bio import Entrez\n",
      "        >>> Entrez.email = \"Your.Name.Here@example.org\"\n",
      "        >>> record = Entrez.read(Entrez.einfo())\n",
      "        >>> 'pubmed' in record['DbList']\n",
      "        True\n",
      "        \n",
      "        :returns: Handle to the results, by default in XML format.\n",
      "        :raises urllib.error.URLError: If there's a network error.\n",
      "    \n",
      "    elink(**keywds)\n",
      "        Check for linked external articles and return a handle.\n",
      "        \n",
      "        ELink checks for the existence of an external or Related Articles link\n",
      "        from a list of one or more primary IDs;  retrieves IDs and relevancy\n",
      "        scores for links to Entrez databases or Related Articles; creates a\n",
      "        hyperlink to the primary LinkOut provider for a specific ID and\n",
      "        database, or lists LinkOut URLs and attributes for multiple IDs.\n",
      "        \n",
      "        See the online documentation for an explanation of the parameters:\n",
      "        http://www.ncbi.nlm.nih.gov/books/NBK25499/#chapter4.ELink\n",
      "        \n",
      "        Note that ELink treats the \"id\" parameter differently than the other\n",
      "        tools when multiple values are given. You should generally pass multiple\n",
      "        UIDs as a list of strings or integers. This will provide a \"one-to-one\"\n",
      "        mapping from source database UIDs to destination database UIDs in the\n",
      "        result. If multiple source UIDs are passed as a single comma-delimited\n",
      "        string all destination UIDs will be mixed together in the result.\n",
      "        \n",
      "        This example finds articles related to the Biopython application\n",
      "        note's entry in the PubMed database:\n",
      "        \n",
      "        >>> from Bio import Entrez\n",
      "        >>> Entrez.email = \"Your.Name.Here@example.org\"\n",
      "        >>> pmid = \"19304878\"\n",
      "        >>> handle = Entrez.elink(dbfrom=\"pubmed\", id=pmid, linkname=\"pubmed_pubmed\")\n",
      "        >>> record = Entrez.read(handle)\n",
      "        >>> handle.close()\n",
      "        >>> print(record[0][\"LinkSetDb\"][0][\"LinkName\"])\n",
      "        pubmed_pubmed\n",
      "        >>> linked = [link[\"Id\"] for link in record[0][\"LinkSetDb\"][0][\"Link\"]]\n",
      "        >>> \"14630660\" in linked\n",
      "        True\n",
      "        \n",
      "        This is explained in much more detail in the Biopython Tutorial.\n",
      "        \n",
      "        :returns: Handle to the results, by default in XML format.\n",
      "        :raises urllib.error.URLError: If there's a network error.\n",
      "    \n",
      "    epost(db, **keywds)\n",
      "        Post a file of identifiers for future use.\n",
      "        \n",
      "        Posts a file containing a list of UIs for future use in the user's\n",
      "        environment to use with subsequent search strategies.\n",
      "        \n",
      "        See the online documentation for an explanation of the parameters:\n",
      "        http://www.ncbi.nlm.nih.gov/books/NBK25499/#chapter4.EPost\n",
      "        \n",
      "        :returns: Handle to the results.\n",
      "        :raises urllib.error.URLError: If there's a network error.\n",
      "    \n",
      "    esearch(db, term, **keywds)\n",
      "        Run an Entrez search and return a handle to the results.\n",
      "        \n",
      "        ESearch searches and retrieves primary IDs (for use in EFetch, ELink\n",
      "        and ESummary) and term translations, and optionally retains results\n",
      "        for future use in the user's environment.\n",
      "        \n",
      "        See the online documentation for an explanation of the parameters:\n",
      "        http://www.ncbi.nlm.nih.gov/books/NBK25499/#chapter4.ESearch\n",
      "        \n",
      "        Short example:\n",
      "        \n",
      "        >>> from Bio import Entrez\n",
      "        >>> Entrez.email = \"Your.Name.Here@example.org\"\n",
      "        >>> handle = Entrez.esearch(db=\"nucleotide\", retmax=10, term=\"opuntia[ORGN] accD\", idtype=\"acc\")\n",
      "        >>> record = Entrez.read(handle)\n",
      "        >>> handle.close()\n",
      "        >>> int(record[\"Count\"]) >= 2\n",
      "        True\n",
      "        >>> \"EF590893.1\" in record[\"IdList\"]\n",
      "        True\n",
      "        >>> \"EF590892.1\" in record[\"IdList\"]\n",
      "        True\n",
      "        \n",
      "        :returns: Handle to the results, which are always in XML format.\n",
      "        :raises urllib.error.URLError: If there's a network error.\n",
      "    \n",
      "    espell(**keywds)\n",
      "        Retrieve spelling suggestions as a results handle.\n",
      "        \n",
      "        ESpell retrieves spelling suggestions, if available.\n",
      "        \n",
      "        See the online documentation for an explanation of the parameters:\n",
      "        http://www.ncbi.nlm.nih.gov/books/NBK25499/#chapter4.ESpell\n",
      "        \n",
      "        Short example:\n",
      "        \n",
      "        >>> from Bio import Entrez\n",
      "        >>> Entrez.email = \"Your.Name.Here@example.org\"\n",
      "        >>> record = Entrez.read(Entrez.espell(term=\"biopythooon\"))\n",
      "        >>> print(record[\"Query\"])\n",
      "        biopythooon\n",
      "        >>> print(record[\"CorrectedQuery\"])\n",
      "        biopython\n",
      "        \n",
      "        :returns: Handle to the results, by default in XML format.\n",
      "        :raises urllib.error.URLError: If there's a network error.\n",
      "    \n",
      "    esummary(**keywds)\n",
      "        Retrieve document summaries as a results handle.\n",
      "        \n",
      "        ESummary retrieves document summaries from a list of primary IDs or\n",
      "        from the user's environment.\n",
      "        \n",
      "        See the online documentation for an explanation of the parameters:\n",
      "        http://www.ncbi.nlm.nih.gov/books/NBK25499/#chapter4.ESummary\n",
      "        \n",
      "        This example discovers more about entry 19923 in the structure\n",
      "        database:\n",
      "        \n",
      "        >>> from Bio import Entrez\n",
      "        >>> Entrez.email = \"Your.Name.Here@example.org\"\n",
      "        >>> handle = Entrez.esummary(db=\"structure\", id=\"19923\")\n",
      "        >>> record = Entrez.read(handle)\n",
      "        >>> handle.close()\n",
      "        >>> print(record[0][\"Id\"])\n",
      "        19923\n",
      "        >>> print(record[0][\"PdbDescr\"])\n",
      "        Crystal Structure Of E. Coli Aconitase B\n",
      "        \n",
      "        \n",
      "        :returns: Handle to the results, by default in XML format.\n",
      "        :raises urllib.error.URLError: If there's a network error.\n",
      "    \n",
      "    parse(handle, validate=True, escape=False, ignore_errors=False)\n",
      "        Parse an XML file from the NCBI Entrez Utilities into python objects.\n",
      "        \n",
      "        This function parses an XML file created by NCBI's Entrez Utilities,\n",
      "        returning a multilevel data structure of Python lists and dictionaries.\n",
      "        This function is suitable for XML files that (in Python) can be represented\n",
      "        as a list of individual records. Whereas 'read' reads the complete file\n",
      "        and returns a single Python list, 'parse' is a generator function that\n",
      "        returns the records one by one. This function is therefore particularly\n",
      "        useful for parsing large files.\n",
      "        \n",
      "        Most XML files returned by NCBI's Entrez Utilities can be parsed by\n",
      "        this function, provided its DTD is available. Biopython includes the\n",
      "        DTDs for most commonly used Entrez Utilities.\n",
      "        \n",
      "        The handle must be in binary mode. This allows the parser to detect the\n",
      "        encoding from the XML file, and to use it to convert all text in the XML\n",
      "        to the correct Unicode string. The functions in Bio.Entrez to access NCBI\n",
      "        Entrez will automatically return XML data in binary mode. For files,\n",
      "        please use mode \"rb\" when opening the file, as in\n",
      "        \n",
      "            >>> from Bio import Entrez\n",
      "            >>> handle = open(\"Entrez/pubmed1.xml\", \"rb\")  # opened in binary mode\n",
      "            >>> records = Entrez.parse(handle)\n",
      "            >>> for record in records:\n",
      "            ...     print(record['MedlineCitation']['Article']['Journal']['Title'])\n",
      "            ...\n",
      "            Social justice (San Francisco, Calif.)\n",
      "            Biochimica et biophysica acta\n",
      "            >>> handle.close()\n",
      "        \n",
      "        If validate is True (default), the parser will validate the XML file\n",
      "        against the DTD, and raise an error if the XML file contains tags that\n",
      "        are not represented in the DTD. If validate is False, the parser will\n",
      "        simply skip such tags.\n",
      "        \n",
      "        If escape is True, all characters that are not valid HTML are replaced\n",
      "        by HTML escape characters to guarantee that the returned strings are\n",
      "        valid HTML fragments. For example, a less-than sign (<) is replaced by\n",
      "        &lt;. If escape is False (default), the string is returned as is.\n",
      "        \n",
      "        If ignore_errors is False (default), any error messages in the XML file\n",
      "        will raise a RuntimeError. If ignore_errors is True, error messages will\n",
      "        be stored as ErrorElement items, without raising an exception.\n",
      "        \n",
      "        Whereas the data structure seems to consist of generic Python lists,\n",
      "        dictionaries, strings, and so on, each of these is actually a class\n",
      "        derived from the base type. This allows us to store the attributes\n",
      "        (if any) of each element in a dictionary my_element.attributes, and\n",
      "        the tag name in my_element.tag.\n",
      "    \n",
      "    read(handle, validate=True, escape=False, ignore_errors=False)\n",
      "        Parse an XML file from the NCBI Entrez Utilities into python objects.\n",
      "        \n",
      "        This function parses an XML file created by NCBI's Entrez Utilities,\n",
      "        returning a multilevel data structure of Python lists and dictionaries.\n",
      "        Most XML files returned by NCBI's Entrez Utilities can be parsed by\n",
      "        this function, provided its DTD is available. Biopython includes the\n",
      "        DTDs for most commonly used Entrez Utilities.\n",
      "        \n",
      "        The handle must be in binary mode. This allows the parser to detect the\n",
      "        encoding from the XML file, and to use it to convert all text in the XML\n",
      "        to the correct Unicode string. The functions in Bio.Entrez to access NCBI\n",
      "        Entrez will automatically return XML data in binary mode. For files,\n",
      "        please use mode \"rb\" when opening the file, as in\n",
      "        \n",
      "            >>> from Bio import Entrez\n",
      "            >>> handle = open(\"Entrez/esearch1.xml\", \"rb\")  # opened in binary mode\n",
      "            >>> record = Entrez.read(handle)\n",
      "            >>> print(record['QueryTranslation'])\n",
      "            biopython[All Fields]\n",
      "            >>> handle.close()\n",
      "        \n",
      "        If validate is True (default), the parser will validate the XML file\n",
      "        against the DTD, and raise an error if the XML file contains tags that\n",
      "        are not represented in the DTD. If validate is False, the parser will\n",
      "        simply skip such tags.\n",
      "        \n",
      "        If escape is True, all characters that are not valid HTML are replaced\n",
      "        by HTML escape characters to guarantee that the returned strings are\n",
      "        valid HTML fragments. For example, a less-than sign (<) is replaced by\n",
      "        &lt;. If escape is False (default), the string is returned as is.\n",
      "        \n",
      "        If ignore_errors is False (default), any error messages in the XML file\n",
      "        will raise a RuntimeError. If ignore_errors is True, error messages will\n",
      "        be stored as ErrorElement items, without raising an exception.\n",
      "        \n",
      "        Whereas the data structure seems to consist of generic Python lists,\n",
      "        dictionaries, strings, and so on, each of these is actually a class\n",
      "        derived from the base type. This allows us to store the attributes\n",
      "        (if any) of each element in a dictionary my_element.attributes, and\n",
      "        the tag name in my_element.tag.\n",
      "\n",
      "DATA\n",
      "    api_key = None\n",
      "    email = None\n",
      "    max_tries = 3\n",
      "    sleep_between_tries = 15\n",
      "    tool = 'biopython'\n",
      "\n",
      "FILE\n",
      "    c:\\users\\fxy40\\anaconda3\\lib\\site-packages\\bio\\entrez\\__init__.py\n",
      "\n",
      "\n"
     ]
    }
   ],
   "source": [
    "help(Entrez)"
   ]
  },
  {
   "cell_type": "markdown",
   "metadata": {},
   "source": [
    "Entrez requires users to put in their emails to run queries:"
   ]
  },
  {
   "cell_type": "code",
   "execution_count": 34,
   "metadata": {},
   "outputs": [],
   "source": [
    "Entrez.email = \"jfxy0518@gmail.com\""
   ]
  },
  {
   "cell_type": "markdown",
   "metadata": {},
   "source": [
    "I ran the code below to identify the types of databases which can be accessed using the Entrez module."
   ]
  },
  {
   "cell_type": "code",
   "execution_count": 35,
   "metadata": {},
   "outputs": [
    {
     "data": {
      "text/plain": [
       "['pubmed', 'protein', 'nuccore', 'ipg', 'nucleotide', 'structure', 'genome', 'annotinfo', 'assembly', 'bioproject', 'biosample', 'blastdbinfo', 'books', 'cdd', 'clinvar', 'gap', 'gapplus', 'grasp', 'dbvar', 'gene', 'gds', 'geoprofiles', 'homologene', 'medgen', 'mesh', 'nlmcatalog', 'omim', 'orgtrack', 'pmc', 'popset', 'proteinclusters', 'pcassay', 'protfam', 'pccompound', 'pcsubstance', 'seqannot', 'snp', 'sra', 'taxonomy', 'biocollections', 'gtr']"
      ]
     },
     "execution_count": 35,
     "metadata": {},
     "output_type": "execute_result"
    }
   ],
   "source": [
    "handle = Entrez.einfo()\n",
    "record = Entrez.read(handle)\n",
    "record[\"DbList\"]"
   ]
  },
  {
   "cell_type": "markdown",
   "metadata": {},
   "source": [
    "## 2.1. PUBMED"
   ]
  },
  {
   "cell_type": "markdown",
   "metadata": {},
   "source": [
    "In this step, I attempt to fetch PubMed literature data."
   ]
  },
  {
   "cell_type": "code",
   "execution_count": 36,
   "metadata": {},
   "outputs": [
    {
     "data": {
      "text/plain": [
       "'PubMed bibliographic record'"
      ]
     },
     "execution_count": 36,
     "metadata": {},
     "output_type": "execute_result"
    }
   ],
   "source": [
    "handle = Entrez.einfo(db=\"pubmed\")\n",
    "record = Entrez.read(handle)\n",
    "record[\"DbInfo\"][\"Description\"]"
   ]
  },
  {
   "cell_type": "markdown",
   "metadata": {},
   "source": [
    "As shown, PubMed is a bibliographic database containing bibliographic records..."
   ]
  },
  {
   "cell_type": "code",
   "execution_count": 37,
   "metadata": {},
   "outputs": [
    {
     "data": {
      "text/plain": [
       "'35953109'"
      ]
     },
     "execution_count": 37,
     "metadata": {},
     "output_type": "execute_result"
    }
   ],
   "source": [
    "record[\"DbInfo\"][\"Count\"]"
   ]
  },
  {
   "cell_type": "markdown",
   "metadata": {},
   "source": [
    "...with a count of 35937484 bibliographic records in this database (as of July 13th, 2023). "
   ]
  },
  {
   "cell_type": "markdown",
   "metadata": {},
   "source": [
    "I then filtered the data of choice by using the e-search module of Entrez. This fetches all the literature or data containing the term 'biopython' in their title:"
   ]
  },
  {
   "cell_type": "code",
   "execution_count": 38,
   "metadata": {},
   "outputs": [
    {
     "data": {
      "text/plain": [
       "['36818783', '36245797', '36094101', '35497637', '35496474', '35402671', '34735950', '34484417', '34434786', '34189012', '33994075', '33902722', '33809815', '33242467', '32044951', '31762715', '31278684', '31069053', '30013827', '29641230']"
      ]
     },
     "execution_count": 38,
     "metadata": {},
     "output_type": "execute_result"
    }
   ],
   "source": [
    "handle = Entrez.esearch(db=\"pubmed\", term=\"biopython\")\n",
    "record = Entrez.read(handle)\n",
    "record[\"IdList\"]"
   ]
  },
  {
   "cell_type": "markdown",
   "metadata": {},
   "source": [
    "An alternative way to fetch literature details is to use the IdList instead of the term 'biopython'. \n",
    "To do that, I replaced the parameter 'esearch' with 'esummary', and pass in the IDs I got from the previous search.\n",
    "I formatted it into a specific type, showing the author, title, publication date and journal name using the *for* loop:"
   ]
  },
  {
   "cell_type": "code",
   "execution_count": 39,
   "metadata": {},
   "outputs": [
    {
     "name": "stdout",
     "output_type": "stream",
     "text": [
      "['Olds CG', 'Berta-Thompson JW', 'Loucks JJ', 'Levy RA', 'Wilson AW'] Applying a modified metabarcoding approach for the sequencing of macrofungal specimens from fungarium collections. 2023 Jan-Feb Applications in plant sciences\n",
      "['Nallasamy V', 'Seshiah M'] Energy Profile Bayes and Thompson Optimized Convolutional Neural Network protein structure prediction. 2023 Neural computing & applications\n"
     ]
    }
   ],
   "source": [
    "handle = Entrez.esummary(db=\"pubmed\", id='36818783,36245797')\n",
    "records = Entrez.parse(handle)\n",
    "\n",
    "\n",
    "for record in records:\n",
    "    print(record['AuthorList'],record['Title'],record['PubDate'],record['FullJournalName'])"
   ]
  },
  {
   "cell_type": "markdown",
   "metadata": {},
   "source": [
    "## 2.2. Nucleotide"
   ]
  },
  {
   "cell_type": "markdown",
   "metadata": {},
   "source": [
    "In this section, I fetch nucleotide sequence records using the same Entrez module. Within the e-search parameter, I put 'nucleotide' as my database, and set it to retrieve 10 records. The ID list of all the nucleotide sequences which have the term 'severe acute respiratory syndrome' is found:"
   ]
  },
  {
   "cell_type": "code",
   "execution_count": 40,
   "metadata": {},
   "outputs": [
    {
     "data": {
      "text/plain": [
       "['2542475402', '2542475384', '2542404305', '2542404289', '2542404272', '2542404258', '2542404242', '2542404228', '2542404213', '2542404198']"
      ]
     },
     "execution_count": 40,
     "metadata": {},
     "output_type": "execute_result"
    }
   ],
   "source": [
    "handle = Entrez.esearch(db=\"nucleotide\",retmax=10, term=\"Severe acute respiratory syndrome\")\n",
    "record = Entrez.read(handle)\n",
    "record[\"IdList\"]"
   ]
  },
  {
   "cell_type": "markdown",
   "metadata": {},
   "source": [
    "Then, I fetched the record of these individual IDs. The retrieval type is set to 'gb' (Genbank), and the output is set to be in a text format:"
   ]
  },
  {
   "cell_type": "code",
   "execution_count": 41,
   "metadata": {
    "scrolled": true
   },
   "outputs": [
    {
     "name": "stdout",
     "output_type": "stream",
     "text": [
      "LOCUS       LC773238               29685 bp    RNA     linear   VRL 08-JUL-2023\n",
      "DEFINITION  Severe acute respiratory syndrome coronavirus 2\n",
      "            SARS-CoV-2/human/Japan/kmumc011145/2023 RNA, nearly complete\n",
      "            genome.\n",
      "ACCESSION   LC773238\n",
      "VERSION     LC773238.1\n",
      "DBLINK      BioProject: PRJDB16147\n",
      "            BioSample: SAMD00627887\n",
      "            Sequence Read Archive: DRR489579\n",
      "KEYWORDS    .\n",
      "SOURCE      Severe acute respiratory syndrome coronavirus 2\n",
      "  ORGANISM  Severe acute respiratory syndrome coronavirus 2\n",
      "            Viruses; Riboviria; Orthornavirae; Pisuviricota; Pisoniviricetes;\n",
      "            Nidovirales; Cornidovirineae; Coronaviridae; Orthocoronavirinae;\n",
      "            Betacoronavirus; Sarbecovirus; Severe acute respiratory\n",
      "            syndrome-related coronavirus.\n",
      "REFERENCE   1\n",
      "  AUTHORS   Nakamori,Y. and Kashihara,M.\n",
      "  TITLE     Clinical Experience of Treatment of Immunocompromised Individuals\n",
      "            with Persistent SARS-CoV-2 Infection Based on Drug Resistance\n",
      "            Mutations Determined by Genomic Analysis: A Descriptive Study\n",
      "  JOURNAL   Unpublished\n",
      "REFERENCE   2  (bases 1 to 29685)\n",
      "  AUTHORS   Kashihara,M. and Inoue,A.\n",
      "  TITLE     Direct Submission\n",
      "  JOURNAL   Submitted (26-JUN-2023) Contact:Akira Inoue KANSAI MEDICAL\n",
      "            UNIVERSITY MEDICAL CENTER; Fumizono-cho, Moriguchi-city, Osaka\n",
      "            570-8507, Japan\n",
      "COMMENT     ##Genome-Assembly-Data-START##\n",
      "            Assembly Method       :: generateConsensus v. 5.16.0.12\n",
      "            Genome Coverage       :: 14366x\n",
      "            Sequencing Technology :: Genexus\n",
      "            ##Genome-Assembly-Data-END##\n",
      "FEATURES             Location/Qualifiers\n",
      "     source          1..29685\n",
      "                     /organism=\"Severe acute respiratory syndrome coronavirus\n",
      "                     2\"\n",
      "                     /mol_type=\"genomic RNA\"\n",
      "                     /isolate=\"SARS-CoV-2/human/Japan/kmumc011145/2023\"\n",
      "                     /isolation_source=\"Nasopharyngeal swabs\"\n",
      "                     /host=\"Homo sapiens\"\n",
      "                     /db_xref=\"taxon:2697049\"\n",
      "                     /country=\"Japan\"\n",
      "                     /collection_date=\"2023-01-17\"\n",
      "     gene            224..21504\n",
      "                     /gene=\"ORF1ab\"\n",
      "     CDS             join(224..13417,13417..21504)\n",
      "                     /gene=\"ORF1ab\"\n",
      "                     /ribosomal_slippage\n",
      "                     /codon_start=1\n",
      "                     /product=\"ORF1ab polyprotein\"\n",
      "                     /protein_id=\"BEK81918.1\"\n",
      "                     /translation=\"MESLVPGFNEKTHVQLSLPVLQVRDVLVRGFGDSVEEVLSEARQ\n",
      "                     HLKDGTCGLVEVEKGVLPQLEQPYVFIKRSDARTAPHGHVMVELVAELEGIQYGRSGE\n",
      "                     TLGVLVPHVGEIPVAYRKVLLRKNGNKGAGGHRYGADLKSFDLGDELGTDPYEDFQEN\n",
      "                     WNTKHSSGVTRELMRELNGGAYTRYVDNNFCGPDGYPLECIKDLLARAGKASCTLSEQ\n",
      "                     LDFIDTKRGVYCCREHEHEIAWYTERSEKSYELQTPFEIKLAKKFDTFNGECPNFVFP\n",
      "                     LNSIIKTIQPRVEKKKLDGFMGRIRSVYPVASPNECNQMCLSTLMKCDHCGETSWQTG\n",
      "                     DFVKATCEFCGTENLTKEGATTCGYLPQNAVVKIYCPACHNSEVGPEHSLAEYHNESG\n",
      "                     LKTILRKGGRTIAFGGCVFSYVGCHNKCAYWVPRASANIGCNHTGVVGEGSEGLNDNL\n",
      "                     LEILQKEKVNINIVGDFKLNEEIAIILASFSASTSAFVETVKGLDYKAFKQIVESCGN\n",
      "                     FKVTKGKAKKGAWNIGEQKSILSPLYAFASEAARVVRSIFSRTLETAQNSVRVLQKAA\n",
      "                     ITILDGISQYSLRLIDAMMFTSDLATNNLVVMAYITGGVVQLTSQWLTNIFGTVYEKL\n",
      "                     KPVLDWLEEKFKEGVEFLRDGWEIVKFISTCACEIVGGQIVTCAKEIKESVQTFFKLV\n",
      "                     NKFLALCADSIIIGGAKLKALNLGETFVTHSKGLYRKCVKSREETGLLMPLKAPKEII\n",
      "                     FLEGETLPTEVLTEEVVLKTGDLQPLEQPTSEAVEAPLVGTPVCINGLMLLEIKDTEK\n",
      "                     YCALAPNMMVTNNTFTLKGGAPTKVTFGDDTVIEVQGYKSVNIIFELDERIDKVLNEK\n",
      "                     CSAYTVELGTEVNEFACVVADAVIKTLQPVSELLTPLGIDLDEWSMATYYLFDESGEF\n",
      "                     KLASHMYCSFYPPDEDEEEGDCEEEEFEPSTQYEYGTEDDYQGKPLEFGATSAALQPE\n",
      "                     EEQEEDWLDDDSQQTVGQQDGSEDNQTTTIQTIVEVQPQLEMELTPVVQTIEVNSFSG\n",
      "                     YLKLTDNVYIKNADIVEEAKKVKPTVVVNAANVYLKHGGGVAGALNKATNNAMQVESD\n",
      "                     DYIATNGPLKVGGSCVLSGHNLAKHCLHVVGPNVNKGEDIQLLKSAYENFNQHEVLLA\n",
      "                     PLLSAGIFGADPIHSLRVCVDTVRTNVYLAVFDKNLYDKLVSSFLEMKSEKQVEQKIA\n",
      "                     EIPKEEVKPFITESKPSVEQRKQDDKKIKACVEEVTTTLEETKFLTENLLLYIDINGN\n",
      "                     LHPDSATLVSDIDITFLKKDAPYIVGDVVQEGVLTAVVIPTKKASGTTEMLAKALRKV\n",
      "                     PTDNYITTYPGQGLNGYTVEEAKTVLKKCKSAFYILPSIISNEKQEILGTVSWNLREM\n",
      "                     LAHAEETRKLMPVCVETKAIVSTIQRKYKGIKIQEGVVDYGARFYFYTSKTTVASLIN\n",
      "                     TLNDLNETLVTMPLGYVTHGLNLEEAARYMRSLKVPATVSVSSPDAVTAYNGYLTSSS\n",
      "                     KTPEEHFIETISLAGSYKDWSYSGQSTQLGIEFLKRGDKSVYYTSNPTTFHLDGEVIT\n",
      "                     FDNLKTLLSLREVRTIKVFTTVDNINLHTQVVDMSMTYGQQFGPTYLDGADVTKIKPH\n",
      "                     NSHEGKTFYVLPNDDTLRVEAFEYYHTTDPSFLGRYMSALNHTKKWKYPQVNGLTSIK\n",
      "                     WADNNCYLATALLTLQQIELKFNPPALQDAYYRARAGEAANFCALILAYCNKTVGELG\n",
      "                     DVRETMSYLFQHANLDSCKRVLNVVCKTCGQQQTTLKGVEAVMYMGTLSYEQFKKGVQ\n",
      "                     IPCTCGKQATKYLVQQESPFVMMSAPPAQYELKHGTFTCASEYTGNYQCGHYKHITSK\n",
      "                     ETLYCIDGALLTKSSEYKGPITDVFYKENSYTTTIKPVTYKLDGVVCTEIDPKLDNYY\n",
      "                     KKDNSYFTEQPIDLVPNQPYPNASFDNFKFVCDNIKFADDLNQLTGYKKPASRELKVT\n",
      "                     FFPDLNGDVVAIDYKHYTPSFKKGAKLLHKPIVWHVNNATNKATYKPNTWCIRCLWST\n",
      "                     KPVETSNSFDVLKSEDAQGMDNLACEDLKPVSEEVVENPTIQKDVLECNVKTTEVVGD\n",
      "                     IILKPANNSLKITEEVGHTDLMAAYVDNSSLTIKKPNELSRVLGLKILATHGLAAVNS\n",
      "                     VPWDTIANYAKPFLNKVVSTTTNIVTRCLNRVCTNYMPYFFTLLLQLCTFTRSTNSRI\n",
      "                     KASMPTTIAKNTVKSVGKFCLEASFNYLKSPNFSKLINIIIWFLLLSVCLGSLIYSTA\n",
      "                     ALGVLMSNLGMPSYCTGYREGYLNSTNVTIATYCTGSIPCSVCLSGLDSLDTYPSLET\n",
      "                     IQITISSFKWDLTAFGLVAEWFLAYILFTRFFYVLGLAAIMQLFFSYFAVHFISNSWL\n",
      "                     MWLIINLVQMAPISAMVRMYIFFASFYYVWKSYVHVVDGCNSSTCMMCYKRNRATRVE\n",
      "                     CTTIVNGVRRSFYVYANGGKGFCKLHNWNCVNCDTFCAGSTFISDEVARDLSLQFKRP\n",
      "                     INPTDQSSYIVDSVTVKNGSIHLYFDKAGQKTYERHSLSHFVNLDNLRANNTKGSLPI\n",
      "                     NVIVFDGKSKCEESSAKSASVYYSQLMCQPILLLDQALVSDVGDSAEVAVKMFDAYVN\n",
      "                     TFSSTFNVPMEKLKTLVATAEAELAKNVSLDNVLSTFISAARQGFVDSDVETKDVVEC\n",
      "                     LKLSHQSDIEVTGDSCNNYMLTYNKVENMTPRDLGACIDCSARHINAQVAKSHNIALI\n",
      "                     WNVKDFMSLSEQLRKQIRSAAKKNNLPFKLTCATTRQVVNVVTTKIALKGGKIVNNWL\n",
      "                     KQLIKVTLVFLFVAAIFYLITPVHVMSKHTDFSSEIIGYKAIDGGVTRDIASTDTCFA\n",
      "                     NKHADFDTWFSQRGGSYTNDKACPLIAAVITREVGFVVPGLPGTVLRTTNGDFLHFLP\n",
      "                     RVFSAVGNICYTPSKLIEYTDFATSACVLAAECTIFKDASGKPVPYCYDTNVLEGSVA\n",
      "                     YESLRPDTRYVLMDGSIIQFPNTYLEGSVRVVTTFDSEYCRHGTCERSEAGVCVSTSG\n",
      "                     RWVLNNDYYRSLPGVFCGVDAVNLFTNMFTPLIQPIGALDISASIVAGGIVAIVVTCL\n",
      "                     AYYFMRFRRAXXXXXXXXXXXXXXXXXXXXXXXXXXXXXFLPGVYSVIYLYLTFYLTN\n",
      "                     DVSFLAHIQWMVMFTPLVPFWITIAYIICISTKHFYWFFSNYLKRRVVFNGVSFSTFE\n",
      "                     EAALCTFLLNKEMYLKLRSDVLLPLTQYNRYLALYNKYKYFSGAMDTTSYREAACCHL\n",
      "                     AKALNDFSNSGSDVLYQPPQISITSAVLQSGFRKMAFPSGKVEGCMVQVTCGTTTLNG\n",
      "                     LWLDDVVYCPRHVICTSEDMLNPNYEDLLIRKSNHNFLVQAGNVQLRVIGHSMQNCVL\n",
      "                     KLKVDTANPKTPKYKFVRIQPGQTFSVLACYNGSPSGVYQCAMRHNFTIKGSFLNGSC\n",
      "                     GSVGFNIDYDCVSFCYMHHMELPTGVHAGTDLEGNFYGPFVDRQTAQAAGTDTTITVN\n",
      "                     VLAWLYAAVINGDRWFLNRFTTTLNDFNLVAMKYNYEPLTQDHVDILGPLSAQTGIAV\n",
      "                     LDMCASLKELLQNGMNGRTILGSALLEDEFTPFDVVRQCSGVTFQSAVKRTIKGTHHW\n",
      "                     LLLTILTSLLVLVQSTQWSLFFFLYENAFLPFAMGIIAMSAFAMMFVKHKHAFLCLFL\n",
      "                     LPSLATVAYFNMVYMPASWVMRIMTWLDMVDTSLKLKDCVMYASAVVLLILMTARTVY\n",
      "                     DDGARRVWTLMNVLTLVYKVYYGNALDQAISMWALIISVTSNYSGVVTTVMFLARGIV\n",
      "                     FMCVEYCPIFFITGNTLQCIMLVYCFLGYFCTCYFGLFCLLNRYFRLTLGVYDYLVST\n",
      "                     QEFRYMNSQGLLPPKNSIDAFKLNIKLLGVGGKPCIKVATVQSKMSDVKCTSVVLLSV\n",
      "                     LQQLRVESSSKLWAQCVQLHNDILLAKDTTEAFEKMVSLLSVLLSMQGAVDINKLCEE\n",
      "                     MLDNRATLQAIASEFSSLPSYAAFATAQEAYEQAVANGDSEVVLKKLKKSLNVAKSEF\n",
      "                     DRDAAMQRKLEKMADQAMTQMYKQARSEDKRAKVTSAMQTMLFTMLRKLDNDALNNII\n",
      "                     NNARDGCVPLNIIPLTTAAKLMVVIPDYNTYKNTCDGTTFTYASALWEIQQVVDADSK\n",
      "                     IVQLSEISMDNSPNLAWPLIVTALRANSAVKLQNNELSPVALRQMSCAAGTTQTACTD\n",
      "                     DNALAYYNTTKGGRFVLALLSDLQDLKWARFPKSDGTGTIYTELEPPCRFVTDTPKGP\n",
      "                     KVKYLYFIKGLNNLNRGMVLGSLAATVRLQAGNATEVPANSTVLSFCAFAVDAAKAYK\n",
      "                     DYLASGGQPITNCVKMLCTHTGTGQAITVTPEANMDQESFGGASCCLYCRCHIDHPNP\n",
      "                     KGFCDLKGKYVQIPTTCANDPVGFTLKNTVCTVCGMWKGYGCSCDQLREPMLQSADAQ\n",
      "                     SFLNRVCGVSAARLTPCGTGTSTDVVYRAFDIYNDKVAGFAKFLKTNCCRFQEKDEDD\n",
      "                     NLIDSYFVVKRHTFSNYQHEETIYNLLKDCPAVAKHDFFKFRIDGDMVPHISRQRLTK\n",
      "                     YTMADLVYALRHFDEGNCDTLKEILVTYNCCDDDYFNKKDWYDFVENPDILRVYANLG\n",
      "                     ERVRQALLKTVQFCDAMRNAGIVGVLTLDNQDLNGNWYDFGDFIQTTPGSGVPVVDSY\n",
      "                     YSLLMPILTLTRALTAESHVDTDLTKPYIKWDLLKYDFTEERLKLFDRYFKYWDQTYH\n",
      "                     PNCVNCLDDRCILHCANFNVLFSTVFPLTSFGPLVRKIFVDGVPFVVSTGYHFRELGV\n",
      "                     VHNQDVNLHSSRLSFKELLVYAADPAMHAASGNLLLDKRTTCFSVAALTNNVAFQTVK\n",
      "                     PGNFNKDFYDFAVSKGFFKEGSSVELKHFFFAQDGNAAISDYDYYRYNLPTMCDIRQL\n",
      "                     LFVVEVVDKYFDCYDGGCINANQVIVNNLDKSAGFPFNKWGKARLYYDSMSYEDQDAL\n",
      "                     FAYTKRNVIPTITQMNLKYAISAKNRARTVAGVSICSTMTNRQFHQKLLKSIAATRGA\n",
      "                     TVVIGTSKFYGGWHNMLKTVYSDVENPHLMGWDYPKCDRAMPNMLRIMASLVLARKHT\n",
      "                     TCCSLSHRFYRLANECAQVLSEMVMCGGSLYVKPGGTSSGDATTAYANSVFNICQAVT\n",
      "                     ANVNALLSTDGNKIADKYVRNLQHRLYECLYRNRDVDTDFVNEFYAYLRKHFSMMILS\n",
      "                     DDAVVCFNSTYASQGLVASIKNFKSVLYYQNNVFMSEAKCWTETDLTKGPHEFCSQHT\n",
      "                     MLVKQGDDYVYLPYPDPSRILGAGCFVDDIVKTDGTLMIERFVSLAIDAYPLTKHPNQ\n",
      "                     EYADVFHLYLQYIRKLHDELTGHMLDMYSVMLTNDNTSRYWEPEFYEAMYTPHTVLQA\n",
      "                     VGACVLCNSQTSLRCGACIRRPFLCCKCCYDHVISTSHKLVLSVNPYVCNAPGCDVTD\n",
      "                     VTQLYLGGMSYYCKSHKPPISFPLCANGQVFGLYKNTCVGSDNVTDFNAIATCDWTNA\n",
      "                     GDYILANTCTERLKLFAAETLKATEETFKLSYGIATVREVLSDRELHLSWEVGKPRPP\n",
      "                     LNRNYVFTGYRVTKNSKVQIGEYTFEKGDYGDAVVYRGTTTYKLNVGDYFVLTSHTVM\n",
      "                     PLSAPTLVPQEHYVRITGLYPTLNISDEFSSNVANYQKVGMQKYSTLQGPPGTGKSHF\n",
      "                     AIGLALYYPSARIVYTACSHAAVDALCEKALKYLPIDKCSRIIPARARVECFDKFKVN\n",
      "                     STLEQYVFCTVNALPETTADIVVFDEISMATNYDLSVVNARLCAKHYVYIGDPAQLPA\n",
      "                     PRTLLTKGTLEPEYFNSVCRLMKTIGPDMFLGTCRRCPAEIVDTVSALVYDNKLKAHK\n",
      "                     DKSAQCFKMFYKGVITHDVSSAINRPQIGVVREFLTRNPAWRKAVFISPYNSQNAVAS\n",
      "                     KILGLPTQTVDSSQGSEYDYVIFTQTTETAHSCNVNRFNVAITRAKVGILCIMSDRDL\n",
      "                     YDKLQFTSLEIPRRNVATLQAENVTGLFKDCSKVITGLHPTQAPTHLSVDTKFKTEGL\n",
      "                     CVDVPGIPKDMTYRRLISMMGFKMNYQVNGYPNMFITREEAIRHVRAWIGFDVEGCHA\n",
      "                     TREAVGTNLPLQLGFSTGVNLVAVPTGYVDTPNNTDFSRVSAKPPPGDQFKHLIPLMY\n",
      "                     KGLPWNVVRIKIVQMLSDTLKNLSDRVVFVLWAHGFELTSMKYFVKIGPERTCCLCDR\n",
      "                     RATCFSTASDTYACWHHSIGFDYVYNPFMIDVQQWGFTGNLQSNHDLYCQVHGNAHVA\n",
      "                     SCDAIMTRCLAVHECFVKRVDWTIEYPIIGDELKINAACRKVQHMVVKAALLADKFPV\n",
      "                     LHDIGNPKAIKCVPQADVEWKFYDAQPCSDKAYKIEELFYSYATHSDKFTDGVCLFWN\n",
      "                     CNVDRYPANSIVCRFDTRVLSNLNLPGCDGGSLYVNKHAFHTPAFDKSAFVNLKQLPF\n",
      "                     FYYSDSPCESHGKQVVSDIDYVPLKSATCITRCNLGGAVCRHHANEYRLYLDAYNMMI\n",
      "                     SAGFSLWVYKQFDTYNLWNTFTRLQSLENVAFNVVNKGHFDGQQGEVPVSIINNTVYT\n",
      "                     KVDGVDVELFENKTTLPVNVAFELWAKRNIKPVPEVKILNNLGVDIAANTVIWDYKRD\n",
      "                     APAHISTIGVCSMTDIAKKPIETICAPLTVFFDGRVDGQVDLFRNARNGVLITEGSVK\n",
      "                     GLQPSVGPKQASLNGVTLIGEAVKTQFNYYKKVDGVVQQLPETYFTQSRNLQEFKPRS\n",
      "                     QMEIDFLELAMDEFIERYKLEGYAFEHIVYGDFSHSQLGGLHLLIGLAKRFKESPFEL\n",
      "                     EDFIPMDSTVKNYFITDAQTGSSKCVCSVIDLLLDDFVEIIKSQDLSVVSKVVKVTID\n",
      "                     YTEISFMLWCKDGHVETFYPKLQSSQAWQPGVAMPNLYKMQRMLLEKCDLQNYGDSAT\n",
      "                     LPKGIMMNVAKYTQLCQYLNTLTLAVPYNMRVIHFGAGSDKGVAPGTAVLRQWLPTGT\n",
      "                     LLVDSDLNDFVSDADSTLIGDCATVHTANKWDLIISDMYDPKTKNVTKENDSKEGFFT\n",
      "                     YICGFIQQKLALGGSVAIKITEHSWSADLYKLMGHFAWWTAFVTNVNASSSEAFLIGC\n",
      "                     NYLGKPREQIDGYVMHANYIFWRNTNPIQLSSYSLFDMSKFPLKLRGTAVMSLKEGQI\n",
      "                     NDMILSLLSKGRLIIRENNRVVISSDVLVNN\"\n",
      "     mat_peptide     16186..17988\n",
      "                     /gene=\"ORF1ab\"\n",
      "                     /product=\"helicase\"\n",
      "     mat_peptide     17989..19569\n",
      "                     /gene=\"ORF1ab\"\n",
      "                     /product=\"3'-to-5' exonuclease\"\n",
      "     mat_peptide     19570..20607\n",
      "                     /gene=\"ORF1ab\"\n",
      "                     /product=\"endoRNAse\"\n",
      "     mat_peptide     20608..21501\n",
      "                     /gene=\"ORF1ab\"\n",
      "                     /product=\"2'-O-ribose methyltransferase\"\n",
      "     CDS             224..13432\n",
      "                     /gene=\"ORF1ab\"\n",
      "                     /codon_start=1\n",
      "                     /product=\"ORF1a polyprotein\"\n",
      "                     /protein_id=\"BEK81919.1\"\n",
      "                     /translation=\"MESLVPGFNEKTHVQLSLPVLQVRDVLVRGFGDSVEEVLSEARQ\n",
      "                     HLKDGTCGLVEVEKGVLPQLEQPYVFIKRSDARTAPHGHVMVELVAELEGIQYGRSGE\n",
      "                     TLGVLVPHVGEIPVAYRKVLLRKNGNKGAGGHRYGADLKSFDLGDELGTDPYEDFQEN\n",
      "                     WNTKHSSGVTRELMRELNGGAYTRYVDNNFCGPDGYPLECIKDLLARAGKASCTLSEQ\n",
      "                     LDFIDTKRGVYCCREHEHEIAWYTERSEKSYELQTPFEIKLAKKFDTFNGECPNFVFP\n",
      "                     LNSIIKTIQPRVEKKKLDGFMGRIRSVYPVASPNECNQMCLSTLMKCDHCGETSWQTG\n",
      "                     DFVKATCEFCGTENLTKEGATTCGYLPQNAVVKIYCPACHNSEVGPEHSLAEYHNESG\n",
      "                     LKTILRKGGRTIAFGGCVFSYVGCHNKCAYWVPRASANIGCNHTGVVGEGSEGLNDNL\n",
      "                     LEILQKEKVNINIVGDFKLNEEIAIILASFSASTSAFVETVKGLDYKAFKQIVESCGN\n",
      "                     FKVTKGKAKKGAWNIGEQKSILSPLYAFASEAARVVRSIFSRTLETAQNSVRVLQKAA\n",
      "                     ITILDGISQYSLRLIDAMMFTSDLATNNLVVMAYITGGVVQLTSQWLTNIFGTVYEKL\n",
      "                     KPVLDWLEEKFKEGVEFLRDGWEIVKFISTCACEIVGGQIVTCAKEIKESVQTFFKLV\n",
      "                     NKFLALCADSIIIGGAKLKALNLGETFVTHSKGLYRKCVKSREETGLLMPLKAPKEII\n",
      "                     FLEGETLPTEVLTEEVVLKTGDLQPLEQPTSEAVEAPLVGTPVCINGLMLLEIKDTEK\n",
      "                     YCALAPNMMVTNNTFTLKGGAPTKVTFGDDTVIEVQGYKSVNIIFELDERIDKVLNEK\n",
      "                     CSAYTVELGTEVNEFACVVADAVIKTLQPVSELLTPLGIDLDEWSMATYYLFDESGEF\n",
      "                     KLASHMYCSFYPPDEDEEEGDCEEEEFEPSTQYEYGTEDDYQGKPLEFGATSAALQPE\n",
      "                     EEQEEDWLDDDSQQTVGQQDGSEDNQTTTIQTIVEVQPQLEMELTPVVQTIEVNSFSG\n",
      "                     YLKLTDNVYIKNADIVEEAKKVKPTVVVNAANVYLKHGGGVAGALNKATNNAMQVESD\n",
      "                     DYIATNGPLKVGGSCVLSGHNLAKHCLHVVGPNVNKGEDIQLLKSAYENFNQHEVLLA\n",
      "                     PLLSAGIFGADPIHSLRVCVDTVRTNVYLAVFDKNLYDKLVSSFLEMKSEKQVEQKIA\n",
      "                     EIPKEEVKPFITESKPSVEQRKQDDKKIKACVEEVTTTLEETKFLTENLLLYIDINGN\n",
      "                     LHPDSATLVSDIDITFLKKDAPYIVGDVVQEGVLTAVVIPTKKASGTTEMLAKALRKV\n",
      "                     PTDNYITTYPGQGLNGYTVEEAKTVLKKCKSAFYILPSIISNEKQEILGTVSWNLREM\n",
      "                     LAHAEETRKLMPVCVETKAIVSTIQRKYKGIKIQEGVVDYGARFYFYTSKTTVASLIN\n",
      "                     TLNDLNETLVTMPLGYVTHGLNLEEAARYMRSLKVPATVSVSSPDAVTAYNGYLTSSS\n",
      "                     KTPEEHFIETISLAGSYKDWSYSGQSTQLGIEFLKRGDKSVYYTSNPTTFHLDGEVIT\n",
      "                     FDNLKTLLSLREVRTIKVFTTVDNINLHTQVVDMSMTYGQQFGPTYLDGADVTKIKPH\n",
      "                     NSHEGKTFYVLPNDDTLRVEAFEYYHTTDPSFLGRYMSALNHTKKWKYPQVNGLTSIK\n",
      "                     WADNNCYLATALLTLQQIELKFNPPALQDAYYRARAGEAANFCALILAYCNKTVGELG\n",
      "                     DVRETMSYLFQHANLDSCKRVLNVVCKTCGQQQTTLKGVEAVMYMGTLSYEQFKKGVQ\n",
      "                     IPCTCGKQATKYLVQQESPFVMMSAPPAQYELKHGTFTCASEYTGNYQCGHYKHITSK\n",
      "                     ETLYCIDGALLTKSSEYKGPITDVFYKENSYTTTIKPVTYKLDGVVCTEIDPKLDNYY\n",
      "                     KKDNSYFTEQPIDLVPNQPYPNASFDNFKFVCDNIKFADDLNQLTGYKKPASRELKVT\n",
      "                     FFPDLNGDVVAIDYKHYTPSFKKGAKLLHKPIVWHVNNATNKATYKPNTWCIRCLWST\n",
      "                     KPVETSNSFDVLKSEDAQGMDNLACEDLKPVSEEVVENPTIQKDVLECNVKTTEVVGD\n",
      "                     IILKPANNSLKITEEVGHTDLMAAYVDNSSLTIKKPNELSRVLGLKILATHGLAAVNS\n",
      "                     VPWDTIANYAKPFLNKVVSTTTNIVTRCLNRVCTNYMPYFFTLLLQLCTFTRSTNSRI\n",
      "                     KASMPTTIAKNTVKSVGKFCLEASFNYLKSPNFSKLINIIIWFLLLSVCLGSLIYSTA\n",
      "                     ALGVLMSNLGMPSYCTGYREGYLNSTNVTIATYCTGSIPCSVCLSGLDSLDTYPSLET\n",
      "                     IQITISSFKWDLTAFGLVAEWFLAYILFTRFFYVLGLAAIMQLFFSYFAVHFISNSWL\n",
      "                     MWLIINLVQMAPISAMVRMYIFFASFYYVWKSYVHVVDGCNSSTCMMCYKRNRATRVE\n",
      "                     CTTIVNGVRRSFYVYANGGKGFCKLHNWNCVNCDTFCAGSTFISDEVARDLSLQFKRP\n",
      "                     INPTDQSSYIVDSVTVKNGSIHLYFDKAGQKTYERHSLSHFVNLDNLRANNTKGSLPI\n",
      "                     NVIVFDGKSKCEESSAKSASVYYSQLMCQPILLLDQALVSDVGDSAEVAVKMFDAYVN\n",
      "                     TFSSTFNVPMEKLKTLVATAEAELAKNVSLDNVLSTFISAARQGFVDSDVETKDVVEC\n",
      "                     LKLSHQSDIEVTGDSCNNYMLTYNKVENMTPRDLGACIDCSARHINAQVAKSHNIALI\n",
      "                     WNVKDFMSLSEQLRKQIRSAAKKNNLPFKLTCATTRQVVNVVTTKIALKGGKIVNNWL\n",
      "                     KQLIKVTLVFLFVAAIFYLITPVHVMSKHTDFSSEIIGYKAIDGGVTRDIASTDTCFA\n",
      "                     NKHADFDTWFSQRGGSYTNDKACPLIAAVITREVGFVVPGLPGTVLRTTNGDFLHFLP\n",
      "                     RVFSAVGNICYTPSKLIEYTDFATSACVLAAECTIFKDASGKPVPYCYDTNVLEGSVA\n",
      "                     YESLRPDTRYVLMDGSIIQFPNTYLEGSVRVVTTFDSEYCRHGTCERSEAGVCVSTSG\n",
      "                     RWVLNNDYYRSLPGVFCGVDAVNLFTNMFTPLIQPIGALDISASIVAGGIVAIVVTCL\n",
      "                     AYYFMRFRRAXXXXXXXXXXXXXXXXXXXXXXXXXXXXXFLPGVYSVIYLYLTFYLTN\n",
      "                     DVSFLAHIQWMVMFTPLVPFWITIAYIICISTKHFYWFFSNYLKRRVVFNGVSFSTFE\n",
      "                     EAALCTFLLNKEMYLKLRSDVLLPLTQYNRYLALYNKYKYFSGAMDTTSYREAACCHL\n",
      "                     AKALNDFSNSGSDVLYQPPQISITSAVLQSGFRKMAFPSGKVEGCMVQVTCGTTTLNG\n",
      "                     LWLDDVVYCPRHVICTSEDMLNPNYEDLLIRKSNHNFLVQAGNVQLRVIGHSMQNCVL\n",
      "                     KLKVDTANPKTPKYKFVRIQPGQTFSVLACYNGSPSGVYQCAMRHNFTIKGSFLNGSC\n",
      "                     GSVGFNIDYDCVSFCYMHHMELPTGVHAGTDLEGNFYGPFVDRQTAQAAGTDTTITVN\n",
      "                     VLAWLYAAVINGDRWFLNRFTTTLNDFNLVAMKYNYEPLTQDHVDILGPLSAQTGIAV\n",
      "                     LDMCASLKELLQNGMNGRTILGSALLEDEFTPFDVVRQCSGVTFQSAVKRTIKGTHHW\n",
      "                     LLLTILTSLLVLVQSTQWSLFFFLYENAFLPFAMGIIAMSAFAMMFVKHKHAFLCLFL\n",
      "                     LPSLATVAYFNMVYMPASWVMRIMTWLDMVDTSLKLKDCVMYASAVVLLILMTARTVY\n",
      "                     DDGARRVWTLMNVLTLVYKVYYGNALDQAISMWALIISVTSNYSGVVTTVMFLARGIV\n",
      "                     FMCVEYCPIFFITGNTLQCIMLVYCFLGYFCTCYFGLFCLLNRYFRLTLGVYDYLVST\n",
      "                     QEFRYMNSQGLLPPKNSIDAFKLNIKLLGVGGKPCIKVATVQSKMSDVKCTSVVLLSV\n",
      "                     LQQLRVESSSKLWAQCVQLHNDILLAKDTTEAFEKMVSLLSVLLSMQGAVDINKLCEE\n",
      "                     MLDNRATLQAIASEFSSLPSYAAFATAQEAYEQAVANGDSEVVLKKLKKSLNVAKSEF\n",
      "                     DRDAAMQRKLEKMADQAMTQMYKQARSEDKRAKVTSAMQTMLFTMLRKLDNDALNNII\n",
      "                     NNARDGCVPLNIIPLTTAAKLMVVIPDYNTYKNTCDGTTFTYASALWEIQQVVDADSK\n",
      "                     IVQLSEISMDNSPNLAWPLIVTALRANSAVKLQNNELSPVALRQMSCAAGTTQTACTD\n",
      "                     DNALAYYNTTKGGRFVLALLSDLQDLKWARFPKSDGTGTIYTELEPPCRFVTDTPKGP\n",
      "                     KVKYLYFIKGLNNLNRGMVLGSLAATVRLQAGNATEVPANSTVLSFCAFAVDAAKAYK\n",
      "                     DYLASGGQPITNCVKMLCTHTGTGQAITVTPEANMDQESFGGASCCLYCRCHIDHPNP\n",
      "                     KGFCDLKGKYVQIPTTCANDPVGFTLKNTVCTVCGMWKGYGCSCDQLREPMLQSADAQ\n",
      "                     SFLNGFAV\"\n",
      "     mat_peptide     224..763\n",
      "                     /gene=\"ORF1ab\"\n",
      "                     /product=\"leader protein\"\n",
      "     mat_peptide     764..2677\n",
      "                     /gene=\"ORF1ab\"\n",
      "                     /product=\"nsp2\"\n",
      "     mat_peptide     2678..8512\n",
      "                     /gene=\"ORF1ab\"\n",
      "                     /product=\"nsp3\"\n",
      "     mat_peptide     8513..10012\n",
      "                     /gene=\"ORF1ab\"\n",
      "                     /product=\"nsp4\"\n",
      "     mat_peptide     10013..10930\n",
      "                     /gene=\"ORF1ab\"\n",
      "                     /product=\"3C-like proteinase\"\n",
      "     mat_peptide     10931..11791\n",
      "                     /gene=\"ORF1ab\"\n",
      "                     /product=\"nsp6\"\n",
      "     mat_peptide     11792..12040\n",
      "                     /gene=\"ORF1ab\"\n",
      "                     /product=\"nsp7\"\n",
      "     mat_peptide     12041..12634\n",
      "                     /gene=\"ORF1ab\"\n",
      "                     /product=\"nsp8\"\n",
      "     mat_peptide     12635..12973\n",
      "                     /gene=\"ORF1ab\"\n",
      "                     /product=\"nsp9\"\n",
      "     mat_peptide     12974..13390\n",
      "                     /gene=\"ORF1ab\"\n",
      "                     /product=\"nsp10\"\n",
      "     mat_peptide     13391..13429\n",
      "                     /gene=\"ORF1ab\"\n",
      "                     /product=\"nsp11\"\n",
      "     assembly_gap    9435..9520\n",
      "                     /estimated_length=86\n",
      "                     /gap_type=\"within scaffold\"\n",
      "                     /linkage_evidence=\"align genus\"\n",
      "     mat_peptide     join(13391..13417,13417..16185)\n",
      "                     /gene=\"ORF1ab\"\n",
      "                     /product=\"RNA-dependent RNA polymerase\"\n",
      "     stem_loop       13425..13452\n",
      "                     /gene=\"ORF1ab\"\n",
      "                     /note=\"Coronavirus frameshifting stimulation element\n",
      "                     stem-loop 1\"\n",
      "     stem_loop       13437..13491\n",
      "                     /gene=\"ORF1ab\"\n",
      "                     /note=\"Coronavirus frameshifting stimulation element\n",
      "                     stem-loop 2\"\n",
      "     gene            21512..25318\n",
      "                     /gene=\"S\"\n",
      "     CDS             21512..25318\n",
      "                     /gene=\"S\"\n",
      "                     /codon_start=1\n",
      "                     /product=\"surface glycoprotein\"\n",
      "                     /protein_id=\"BEK81920.1\"\n",
      "                     /translation=\"MFVFLVLLPLVSSQCVNLITRTQSYTNSFTRGVYYPDKVFRSSV\n",
      "                     LHSTQDLFLPFFSNVTWFHAISGTNGTKRFDNPVLPFNDGVYFASTEKSNIIRGWIFG\n",
      "                     TTLDSKTQSLLIVNNATNVVIKVCEFQFCNDPFLDVYYHKNNKSWMESEFRVYSSANN\n",
      "                     CTFEYVSQPFLMDLEGKQGNFKNLREFVFKNIDGYFKIYSKHTPINLGRDLPQGFSAL\n",
      "                     EPLVDLPIGINITRFQTLLALHRSYLTPGDSSSGWTAGAAAYYVGYLQPRTFLLKYNE\n",
      "                     NGTITDAVDCALDPLSETKCTLKSFTVEKGIYQTSNFRVQPTESIVRFPNITNLCPFD\n",
      "                     EVFNATRFASVYAWNRKRISNCVADYSVLYNFAPFFAFKCYGVSPTKLNDLCFTNVYA\n",
      "                     DSFVIRGNEVSQIAPGQTGNIADYNYKLPDDFTGCVIAWNSNKLDSKVGGNYNYRYRL\n",
      "                     FRKSNLKPFERDISTEIYQAGNKPCNGVAGVNCYFPLQSYGFRPTYGVGHQPYRVVVL\n",
      "                     SFELLHAPATVCGPKKSTNLVKNKCVNFNFNGLTGTGVLTESNKKFLPFQQFGRDIAD\n",
      "                     TTDAVRDPQTLEILDITPCSFGGVSVITPGTNTSNQVAVLYQGVNCTEVPVAIHADQL\n",
      "                     TPTWRVYSTGSNVFQTRAGCLIGAEYVNNSYECDIPIGAGICASYQTQTKSHRRARSV\n",
      "                     ASQSIIAYTMSLGAENSVAYSNNSIAIPTNFTISVTTEILPVSMIKTSVDCTMYICGD\n",
      "                     STECSNLLLQYGSFCTQLKRALTGIAVEQDKNTQEVFAQVKQIYKTPPIKYFGGFNFS\n",
      "                     QILPDPSKPSKRSFIEDLLFNKVTLADAGFIKQYGDCLGDIAARDLICAQKFNGLTVL\n",
      "                     PPLLTDEMIAQYTSALLAGTITSGWTFGAGAALQIPFAMQMAYRFNGIGVTQNVLYEN\n",
      "                     QKLIANQFNSAIGKIQDSLSSTASALGKLQDVVNHNAQALNTLVKQLSSKFGAISSVL\n",
      "                     NDILSRLDKVEAEVQIDRLITGRLQSLQTYVTQQLIRAAEIRSSANLAATKMSECVLG\n",
      "                     QSKRVDFCGKGYHLMSFPQSAPHGVVFLHVTYVPAQEKNFTTAPAICHDGKAHFPREG\n",
      "                     VFVSNGTHWFVTQRNFYEPQIITTDNTFVSGNCDVVIGIVNNTVYDPLQPELDSFKEE\n",
      "                     LDKYFKNHTSPDVDLGDISGINASVVNIQKEIDRLNEVAKNLNESLIDLQELGKYEQY\n",
      "                     IKWPWYIWLGFIAGLIAIVMVTIMLCCMTSCCSCLKGCCSCGSCCKFDEDDSEPVLKG\n",
      "                     VKLHYT\"\n",
      "     gene            25327..26154\n",
      "                     /gene=\"ORF3a\"\n",
      "     CDS             25327..26154\n",
      "                     /gene=\"ORF3a\"\n",
      "                     /codon_start=1\n",
      "                     /product=\"ORF3a protein\"\n",
      "                     /protein_id=\"BEK81921.1\"\n",
      "                     /translation=\"MDLFMRIFTIGTVTLKQGEIKDATPSDFVRATATIPIQASLPFG\n",
      "                     WLIVGVALLAVFQSASKIITLKKRWQLALSKGVHFVCNLLLLFVTVYSHLLLVAAGLE\n",
      "                     APFLYLYALVYFLQSINFVRIIMRLWLCWKCRSKNPLLYDANYFLCWHTNCYDYCIPY\n",
      "                     NSVTSSIVITSGDGTTSPISEHDYQIGGYTEKWESGVKDCVVLHSYFTSDYYQLYSTQ\n",
      "                     LSTDIGVEHVTFFIYNKIVDEPEEHVQIHTIDGSSGVVNPVMEPIYDEPTTTTSVPL\"\n",
      "     gene            26179..26406\n",
      "                     /gene=\"E\"\n",
      "     CDS             26179..26406\n",
      "                     /gene=\"E\"\n",
      "                     /codon_start=1\n",
      "                     /product=\"envelope protein\"\n",
      "                     /protein_id=\"BEK81922.1\"\n",
      "                     /translation=\"MYSFVSEEIGTLIVNSVLLFLAFVVFLLVTLAILTALRLCAYCC\n",
      "                     NIVNVSLVKPSFYVYSRVKNLNSSRVPDLLV\"\n",
      "     gene            26457..27125\n",
      "                     /gene=\"M\"\n",
      "     CDS             26457..27125\n",
      "                     /gene=\"M\"\n",
      "                     /codon_start=1\n",
      "                     /product=\"membrane glycoprotein\"\n",
      "                     /protein_id=\"BEK81923.1\"\n",
      "                     /translation=\"MANSNGTITVEELKKLLEEWNLVIGFLFLTWICLLQFAYANRNR\n",
      "                     FLYIIKLIFLWLLWPVTLTCFVLAAVYRINWITGGIAIAMACLVGLMWLSYFIASFRL\n",
      "                     FARTRSMWSFNPETNILLNVPLHGTILTRPLLESELVIGAVILRGHLRIAGHHLGRCD\n",
      "                     IKDLPKEITVATSRTLSYYKLGASQRVAGDSGFAAYSRYRIGNYKLNTDHSSSSDNIA\n",
      "                     LLVQ\"\n",
      "     gene            27136..27321\n",
      "                     /gene=\"ORF6\"\n",
      "     CDS             27136..27321\n",
      "                     /gene=\"ORF6\"\n",
      "                     /codon_start=1\n",
      "                     /product=\"ORF6 protein\"\n",
      "                     /protein_id=\"BEK81924.1\"\n",
      "                     /translation=\"MFHLVDFQVTIAEILLIIMRTFKVSIWNLDYIINLIIKNLSKSL\n",
      "                     TENKYSQLDEEQPMEID\"\n",
      "     gene            27328..27693\n",
      "                     /gene=\"ORF7a\"\n",
      "     CDS             27328..27693\n",
      "                     /gene=\"ORF7a\"\n",
      "                     /codon_start=1\n",
      "                     /product=\"ORF7a protein\"\n",
      "                     /protein_id=\"BEK81925.1\"\n",
      "                     /translation=\"MKIILFLALITLATCELYHYQECVRGTTVLLKEPCSSGTYEGNS\n",
      "                     PFYPLADNKFALTCFSTQFAFACPDGVKHVYQLRARSVSPKLFIRQEEVQELYSPIFL\n",
      "                     IVAAIVFITLCFTLKRKTE\"\n",
      "     gene            27690..27821\n",
      "                     /gene=\"ORF7b\"\n",
      "     CDS             27690..27821\n",
      "                     /gene=\"ORF7b\"\n",
      "                     /codon_start=1\n",
      "                     /product=\"ORF7b\"\n",
      "                     /protein_id=\"BEK81926.1\"\n",
      "                     /translation=\"MIELSLIDFYLCFLAFLLFLVLIMLIIFWFSLELQDHNETCHA\"\n",
      "     gene            27828..28193\n",
      "                     /gene=\"ORF8\"\n",
      "     CDS             27828..28193\n",
      "                     /gene=\"ORF8\"\n",
      "                     /codon_start=1\n",
      "                     /product=\"ORF8 protein\"\n",
      "                     /protein_id=\"BEK81927.1\"\n",
      "                     /translation=\"MKFLVFLGXXXXXXXXXXXXXXQSCTQHQPYVVDDPCPIHFYSK\n",
      "                     WYIRVGARKSAPLIELCVDEAGSKSPIQYIDIGNYTVSCLLFTINCQEPKLGSLVVRC\n",
      "                     SFYEDFLEYHDVRVVLDFI\"\n",
      "     assembly_gap    27853..27892\n",
      "                     /estimated_length=40\n",
      "                     /gap_type=\"within scaffold\"\n",
      "                     /linkage_evidence=\"align genus\"\n",
      "     gene            28208..29458\n",
      "                     /gene=\"N\"\n",
      "     CDS             28208..29458\n",
      "                     /gene=\"N\"\n",
      "                     /codon_start=1\n",
      "                     /product=\"nucleocapsid phosphoprotein\"\n",
      "                     /protein_id=\"BEK81928.1\"\n",
      "                     /translation=\"MSDNGPQNQRNALRITFGGPSDSTGSNQNGGARSKQRRPQGLPN\n",
      "                     NTASWFTALTQHGKEDLKFPRGQGVPINTNSSPDDQIGYYRRATRRIRGGDGKMKDLS\n",
      "                     PRWYFYYLGTGPEAGLPYGANKDGIIWVATEGALNTPKDHIGTRNPANNAAIVLQLPQ\n",
      "                     GTTLPKGFYAEGSRGGSQASSRSSSRSRNSSRNSTPGSSKRTSPARMAGNGGDAALAL\n",
      "                     LLLDRLNQLESKMSGKGQQQQGQTVTKKSAAEASKKPRQKRTATKAYNVTQAFGRRGP\n",
      "                     EQTQGNFGDQELIRQGTDYKHWPQIAQFAPSASAFFGMSRIGMEVTPSGTWLTYTGAI\n",
      "                     KLDDKDPNFKDQVILLNKHIDAYKTFPPTEPKKDKKKKADETQALPQRQKKQQTVTLL\n",
      "                     PAADLDDFSKQLQQSMSRADSTQA\"\n",
      "     assembly_gap    29469..29502\n",
      "                     /estimated_length=34\n",
      "                     /gap_type=\"within scaffold\"\n",
      "                     /linkage_evidence=\"align genus\"\n",
      "     gene            <29503..29599\n",
      "                     /gene=\"ORF10\"\n",
      "     CDS             <29503..29599\n",
      "                     /gene=\"ORF10\"\n",
      "                     /note=\"no start codon\"\n",
      "                     /codon_start=2\n",
      "                     /product=\"ORF10 protein\"\n",
      "                     /protein_id=\"BEK81929.1\"\n",
      "                     /translation=\"AFPFTIYSLLLCRMNSRNYIAQVDVVNFNLT\"\n",
      "     stem_loop       29534..29569\n",
      "                     /gene=\"ORF10\"\n",
      "                     /note=\"Coronavirus 3' UTR pseudoknot stem-loop 1\"\n",
      "     stem_loop       29554..29582\n",
      "                     /gene=\"ORF10\"\n",
      "                     /note=\"Coronavirus 3' UTR pseudoknot stem-loop 2\"\n",
      "     stem_loop       29653..29667\n",
      "                     /note=\"Coronavirus 3' stem-loop II-like motif (s2m)\"\n",
      "ORIGIN      \n",
      "        1 ttgatctctt gtagatctgt tctctaaacg aactttaaaa tctgtgtggc tgtcactcgg\n",
      "       61 ctgcatgctt agtgcactca cgcagtataa ttaataacta attactgtcg ttgacaggac\n",
      "      121 acgagtaact cgtctatctt ctgcaggctg cttacggttt cgtccgtgtt gcagccgatc\n",
      "      181 atcagcacat ctaggttttg tccgggtgtg accgaaaggt aagatggaga gccttgtccc\n",
      "      241 tggtttcaac gagaaaacac acgtccaact cagtttgcct gttttacagg ttcgcgacgt\n",
      "      301 gctcgtacgt ggctttggag actccgtgga ggaggtctta tcagaggcac gtcaacatct\n",
      "      361 taaagatggc acttgtggct tagtagaagt tgaaaaaggc gttttgcctc aacttgaaca\n",
      "      421 gccctatgtg ttcatcaaac gttcggatgc tcgaactgca cctcatggtc atgttatggt\n",
      "      481 tgagctggta gcagaactcg aaggcattca gtacggtcgt agtggtgaga cacttggtgt\n",
      "      541 ccttgtccct catgtgggcg aaataccagt ggcttaccgc aaggttcttc ttcgtaagaa\n",
      "      601 cggtaataaa ggagctggtg gccataggta cggcgccgat ctaaagtcat ttgacttagg\n",
      "      661 cgacgagctt ggcactgatc cttatgaaga ttttcaagaa aactggaaca ctaaacatag\n",
      "      721 cagtggtgtt acccgtgaac tcatgcgtga gcttaacgga ggggcataca ctcgctatgt\n",
      "      781 cgataacaac ttctgtggcc ctgatggcta ccctcttgag tgcattaaag accttctagc\n",
      "      841 acgtgctggt aaagcttcat gcactttgtc cgaacaactg gactttattg acactaagag\n",
      "      901 gggtgtatac tgctgccgtg aacatgagca tgaaattgct tggtacacgg aacgttctga\n",
      "      961 aaagagctat gaattgcaga caccttttga aattaaattg gcaaagaaat ttgacacctt\n",
      "     1021 caatggggaa tgtccaaatt ttgtatttcc cttaaattcc ataatcaaga ctattcaacc\n",
      "     1081 aagggttgaa aagaaaaagc ttgatggctt tatgggtaga attcgatctg tctatccagt\n",
      "     1141 tgcgtcacca aatgaatgca accaaatgtg cctttcaact ctcatgaagt gtgatcattg\n",
      "     1201 tggtgaaact tcatggcaga cgggcgattt tgttaaagcc acttgcgaat tttgtggcac\n",
      "     1261 tgagaatttg actaaagaag gtgccactac ttgtggttac ttaccccaaa atgctgttgt\n",
      "     1321 taaaatttat tgtccagcat gtcacaattc agaagtagga cctgagcata gtcttgccga\n",
      "     1381 ataccataat gaatctggct tgaaaaccat tcttcgtaag ggtggtcgca ctattgcctt\n",
      "     1441 tggaggctgt gtgttctctt atgttggttg ccataacaag tgtgcctatt gggttccacg\n",
      "     1501 tgctagcgct aacataggtt gtaaccatac aggtgttgtt ggagaaggtt ccgaaggtct\n",
      "     1561 taatgacaac cttcttgaaa tacttcaaaa agagaaagtc aacatcaata ttgttggtga\n",
      "     1621 ctttaaactt aatgaagaga tcgccattat tttggcatct ttttctgctt ccacaagtgc\n",
      "     1681 ttttgtggaa actgtgaaag gtttggatta taaagcattc aaacaaattg ttgaatcctg\n",
      "     1741 tggtaatttt aaagttacaa aaggaaaagc taaaaaaggt gcctggaata ttggtgaaca\n",
      "     1801 gaaatcaata ctgagtcctc tttatgcatt tgcatcagag gctgctcgtg ttgtacgatc\n",
      "     1861 aattttctcc cgcactcttg aaactgctca aaattctgtg cgtgttttac agaaggccgc\n",
      "     1921 tataacaata ctagatggaa tttcacagta ttcactgaga ctcattgatg ctatgatgtt\n",
      "     1981 cacatctgat ttggctacta acaatctagt tgtaatggcc tacattacag gtggtgttgt\n",
      "     2041 tcagttgact tcgcagtggc taactaacat ctttggcact gtttatgaaa aactcaaacc\n",
      "     2101 cgtccttgat tggcttgaag agaagtttaa ggaaggtgta gagtttctta gagacggttg\n",
      "     2161 ggaaattgtt aaatttatct caacctgtgc ttgtgaaatt gtcggtggac aaattgtcac\n",
      "     2221 ctgtgcaaag gaaattaagg agagtgttca gacattcttt aagcttgtaa ataaattttt\n",
      "     2281 ggctttgtgt gctgactcta tcattattgg tggagctaaa cttaaagcct tgaatttagg\n",
      "     2341 tgaaacattt gtcacgcact caaagggatt gtacagaaag tgtgttaaat ccagagaaga\n",
      "     2401 aactggccta ctcatgcctc taaaagcccc aaaagaaatt atcttcttag agggagaaac\n",
      "     2461 acttcccaca gaagtgttaa cagaggaagt tgtcttgaaa actggtgatt tacaaccatt\n",
      "     2521 agaacaacct actagtgaag ctgttgaagc tccattggtt ggtacaccag tttgtattaa\n",
      "     2581 cgggcttatg ttgctcgaaa tcaaagacac agaaaagtac tgtgcccttg cacctaatat\n",
      "     2641 gatggtaaca aacaatacct tcacactcaa aggcggtgca ccaacaaagg ttacttttgg\n",
      "     2701 tgatgacact gtgatagaag tgcaaggtta caagagtgtg aatatcattt ttgaacttga\n",
      "     2761 tgaaaggatt gataaagtac ttaatgagaa gtgctctgcc tatacagttg aactcggtac\n",
      "     2821 agaagtaaat gagttcgcct gtgttgtggc agatgctgtc ataaaaactt tgcaaccagt\n",
      "     2881 atctgaatta cttacaccac tgggcattga tttagatgag tggagtatgg ctacatacta\n",
      "     2941 cttatttgat gagtctggtg agtttaaatt ggcttcacat atgtattgtt ctttttaccc\n",
      "     3001 tccagatgag gatgaagaag aaggtgattg tgaagaagaa gagtttgagc catcaactca\n",
      "     3061 atatgagtat ggtactgaag atgattacca aggtaaacct ttggaatttg gtgccacttc\n",
      "     3121 tgctgctctt caacctgaag aagagcaaga agaagattgg ttagatgatg atagtcaaca\n",
      "     3181 aactgttggt caacaagacg gcagtgagga caatcagaca actactattc aaacaattgt\n",
      "     3241 tgaggttcaa cctcaattag agatggaact tacaccagtt gttcagacta ttgaagtgaa\n",
      "     3301 tagttttagt ggttatttaa aacttactga caatgtatac attaaaaatg cagacattgt\n",
      "     3361 ggaagaagct aaaaaggtaa aaccaacagt ggttgttaat gcagccaatg tttaccttaa\n",
      "     3421 acatggagga ggtgttgcag gagccttaaa taaggctact aacaatgcca tgcaagttga\n",
      "     3481 atctgatgat tacatagcta ctaatggacc acttaaagtg ggtggtagtt gtgttttaag\n",
      "     3541 cggacacaat cttgctaaac actgtcttca tgttgtcggc ccaaatgtta acaaaggtga\n",
      "     3601 agacattcaa cttcttaaga gtgcttatga aaattttaat cagcacgaag ttctacttgc\n",
      "     3661 accattatta tcagctggta tttttggtgc tgaccctata cattctttaa gagtttgtgt\n",
      "     3721 agatactgtt cgcacaaatg tctacttagc tgtctttgat aaaaatctct atgacaaact\n",
      "     3781 tgtttcaagc tttttggaaa tgaagagtga aaagcaagtt gaacaaaaga tcgctgagat\n",
      "     3841 tcctaaagag gaagttaagc catttataac tgaaagtaaa ccttcagttg aacagagaaa\n",
      "     3901 acaagatgat aagaaaatca aagcttgtgt tgaagaagtt acaacaactc tggaagaaac\n",
      "     3961 taagttcctc acagaaaact tgttacttta tattgacatt aatggcaatc ttcatccaga\n",
      "     4021 ttctgccact cttgttagtg acattgacat cactttctta aagaaagatg ctccatatat\n",
      "     4081 agtgggtgat gttgttcaag agggtgtttt aactgctgtg gttataccta ctaaaaaggc\n",
      "     4141 tagtggcact actgaaatgc tagcgaaagc tttgagaaaa gtgccaacag acaattatat\n",
      "     4201 aaccacttac ccgggtcagg gtttaaatgg ttacactgta gaggaggcaa agacagtgct\n",
      "     4261 taaaaagtgt aaaagtgctt tttacattct accatctatt atctctaatg agaagcaaga\n",
      "     4321 aattcttgga actgtttctt ggaatttgcg agaaatgctt gcacatgcag aagaaacacg\n",
      "     4381 caaattaatg cctgtctgtg tggaaactaa agccatagtt tcaactatac agcgtaaata\n",
      "     4441 taagggtatt aaaatacaag agggtgtggt tgattatggt gctagatttt acttttacac\n",
      "     4501 cagtaaaaca actgtagcgt cacttatcaa cacacttaac gatctaaatg aaactcttgt\n",
      "     4561 tacaatgcca cttggctatg taacacatgg cttaaatttg gaagaagctg ctcggtatat\n",
      "     4621 gagatctctc aaagtgccag ctacagtttc tgtttcttca cctgatgctg ttacagcgta\n",
      "     4681 taatggttat cttacttctt cttctaaaac acctgaagaa cattttattg aaaccatctc\n",
      "     4741 acttgctggt tcctataaag attggtccta ttctggacaa tctacacaac taggtataga\n",
      "     4801 atttcttaag agaggtgata aaagtgtata ttacactagt aatcctacca cattccacct\n",
      "     4861 agatggtgaa gttatcacct ttgacaatct taagacactt ctttctttga gagaagtgag\n",
      "     4921 gactattaag gtgtttacaa cagtagacaa cattaacctc cacacgcaag ttgtggacat\n",
      "     4981 gtcaatgaca tatggacaac agtttggtcc aacttatttg gatggagctg atgttactaa\n",
      "     5041 aataaaacct cataattcac atgaaggtaa aacattttat gttttaccta atgatgacac\n",
      "     5101 tctacgtgtt gaggcttttg agtactacca cacaactgat cctagttttc tgggtaggta\n",
      "     5161 catgtcagca ttaaatcaca ctaaaaagtg gaaataccca caagttaatg gtttaacttc\n",
      "     5221 tattaaatgg gcagataaca actgttatct tgccactgca ttgttaacac tccaacaaat\n",
      "     5281 agagttgaag tttaatccac ctgctctaca agatgcttat tacagagcaa gggctggtga\n",
      "     5341 agctgctaac ttttgtgcac ttatcttagc ctactgtaat aagacagtag gtgagttagg\n",
      "     5401 tgatgttaga gaaacaatga gttacttgtt tcaacatgcc aatttagatt cttgcaaaag\n",
      "     5461 agtcttgaac gtggtgtgta aaacttgtgg acaacagcag acaaccctta agggtgtaga\n",
      "     5521 agctgttatg tacatgggca cactttctta tgaacaattt aagaaaggtg ttcagatacc\n",
      "     5581 ttgtacgtgt ggtaaacaag ctacaaaata tctagtacaa caggagtcac cttttgttat\n",
      "     5641 gatgtcagca ccacctgctc agtatgaact taagcatggt acatttactt gtgctagtga\n",
      "     5701 gtacactggt aattaccagt gtggtcacta taaacatata acttctaaag aaactttgta\n",
      "     5761 ttgcatagac ggtgctttac ttacaaagtc ctcagaatac aaaggtccta ttacggatgt\n",
      "     5821 tttctacaaa gaaaacagtt acacaacaac cataaaacca gttacttata aattggatgg\n",
      "     5881 tgttgtttgt acagaaattg accctaagtt ggacaattat tataagaaag acaattctta\n",
      "     5941 tttcacagag caaccaattg atcttgtacc aaaccaacca tatccaaacg caagcttcga\n",
      "     6001 taattttaag tttgtatgtg ataatatcaa atttgctgat gatttaaacc agttaactgg\n",
      "     6061 ttataagaaa cctgcttcaa gagagcttaa agttacattt ttccctgact taaatggtga\n",
      "     6121 tgtggtggct attgattata aacactacac accctctttt aagaaaggag ctaaattgtt\n",
      "     6181 acataaacct attgtttggc atgttaacaa tgcaactaat aaagccacgt ataaaccaaa\n",
      "     6241 tacctggtgt atacgttgtc tttggagcac aaaaccagtt gaaacatcaa attcgtttga\n",
      "     6301 tgtactgaag tcagaggacg cgcagggaat ggataatctt gcctgcgaag atctaaaacc\n",
      "     6361 agtctctgaa gaagtagtgg aaaatcctac catacagaaa gacgttcttg agtgtaatgt\n",
      "     6421 gaaaactacc gaagttgtag gagacattat acttaaacca gcaaataata gtttaaaaat\n",
      "     6481 tacagaagag gttggccaca cagatctaat ggctgcttat gtagacaatt ctagtcttac\n",
      "     6541 tattaagaaa cctaatgaat tatctagagt attaggtttg aaaatccttg ctactcatgg\n",
      "     6601 tttagctgct gttaatagtg tcccttggga tactatagct aattatgcta agccttttct\n",
      "     6661 taacaaagtt gttagtacaa ctactaacat agttacacgg tgtttaaacc gtgtttgtac\n",
      "     6721 taattatatg ccttatttct ttactttatt gctacaattg tgtactttta ctagaagtac\n",
      "     6781 aaattctaga attaaagcat ctatgccgac tactatagca aagaatactg ttaagagtgt\n",
      "     6841 tggtaaattt tgtctagagg cttcatttaa ttatttgaag tcacctaatt tttctaaact\n",
      "     6901 gataaatatt ataatttggt ttttactatt aagtgtgtgc ctaggttctt taatctactc\n",
      "     6961 aaccgctgct ttaggtgttt taatgtctaa tttaggcatg ccttcttact gtactggtta\n",
      "     7021 cagagaaggc tatttgaact ctactaatgt cactattgca acctactgta ctggttctat\n",
      "     7081 accttgtagt gtttgtctta gtggtttaga ttctttagac acctatcctt ctttagaaac\n",
      "     7141 tatacaaatt accatttcat cttttaaatg ggatttaact gcttttggct tagttgcaga\n",
      "     7201 gtggtttttg gcatatattc ttttcactag gtttttctat gtacttggat tggctgcaat\n",
      "     7261 catgcaattg tttttcagct attttgcagt acattttatt agtaattctt ggcttatgtg\n",
      "     7321 gttaataatt aatcttgtac aaatggcccc gatttcagct atggttagaa tgtacatctt\n",
      "     7381 ctttgcatca ttttattatg tatggaaaag ttatgtgcat gttgtagacg gttgtaattc\n",
      "     7441 atcaacttgt atgatgtgtt acaaacgtaa tagagcaaca agagtcgaat gtacaactat\n",
      "     7501 tgttaatggt gttagaaggt ccttttatgt ctatgctaat ggaggtaaag gcttttgcaa\n",
      "     7561 actacacaat tggaattgtg ttaattgtga tacattctgt gctggtagta catttattag\n",
      "     7621 tgatgaagtt gcgagagact tgtcactaca gtttaaaaga ccaataaatc ctactgacca\n",
      "     7681 gtcttcttac atcgttgata gtgttacagt gaagaatggt tccatccatc tttactttga\n",
      "     7741 taaagctggt caaaagactt atgaaagaca ttctctctct cattttgtta acttagacaa\n",
      "     7801 cctgagagct aataacacta aaggttcatt gcctattaat gttatagttt ttgatggtaa\n",
      "     7861 atcaaaatgt gaagaatcat ctgcaaaatc agcgtctgtt tactacagtc agcttatgtg\n",
      "     7921 tcaacctata ctgttactag atcaggcatt agtgtctgat gttggtgata gtgcggaagt\n",
      "     7981 tgcagttaaa atgtttgatg cttacgttaa tacgttttca tcaactttta acgtaccaat\n",
      "     8041 ggaaaaactc aaaacactag ttgcaactgc agaagctgaa cttgcaaaga atgtgtcctt\n",
      "     8101 agacaatgtc ttatctactt ttatttcagc agctcggcaa gggtttgttg attcagatgt\n",
      "     8161 agaaactaaa gatgttgttg aatgtcttaa attgtcacat caatctgaca tagaagttac\n",
      "     8221 tggcgatagt tgtaataact atatgctcac ctataacaaa gttgaaaaca tgacaccccg\n",
      "     8281 tgaccttggt gcttgtattg actgtagtgc gcgtcatatt aatgcgcagg tagcaaaaag\n",
      "     8341 tcacaacatt gctttgatat ggaacgttaa agatttcatg tcattgtctg aacaactacg\n",
      "     8401 aaaacaaata cgtagtgctg ctaaaaagaa taacttacct tttaagttga catgtgcaac\n",
      "     8461 tactagacaa gttgttaatg ttgtaacaac aaagatagca cttaagggtg gtaaaattgt\n",
      "     8521 taataattgg ttgaagcagt taattaaagt tacacttgtg ttcctttttg ttgctgctat\n",
      "     8581 tttctattta ataacacctg ttcatgtcat gtctaaacat actgactttt caagtgaaat\n",
      "     8641 cataggatac aaggctattg atggtggtgt cactcgtgac atagcatcta cagatacttg\n",
      "     8701 ttttgctaac aaacatgctg attttgacac atggtttagc cagcgtggtg gtagttatac\n",
      "     8761 taatgacaaa gcttgcccat tgattgctgc agtcataaca agagaagtgg gttttgtcgt\n",
      "     8821 gcctggtttg cctggcacgg tattacgcac aactaatggt gactttttgc atttcttacc\n",
      "     8881 tagagttttt agtgcagttg gtaacatctg ttacacacca tcaaaactta tagagtacac\n",
      "     8941 tgactttgca acatcagctt gtgttttggc tgctgaatgt acaattttta aagatgcttc\n",
      "     9001 tggtaagcca gtaccatatt gttatgatac caatgtacta gaaggttctg ttgcttatga\n",
      "     9061 aagtttacgc cctgacacac gttatgtgct catggatggc tctattattc aatttcctaa\n",
      "     9121 cacctacctt gaaggttctg ttagagtggt aacaactttt gattctgagt actgtaggca\n",
      "     9181 cggcacttgt gaaagatcag aagctggtgt ttgtgtatct actagtggta gatgggtact\n",
      "     9241 taacaatgat tattacagat ctttaccagg agttttctgt ggtgtagatg ctgtaaattt\n",
      "     9301 atttactaat atgtttacac cactaattca acctattggt gctttggaca tatcagcatc\n",
      "     9361 tatagtagct ggtggtattg tggctatcgt agtaacatgc cttgcctact attttatgag\n",
      "     9421 gtttagaaga gcttnnnnnn nnnnnnnnnn nnnnnnnnnn nnnnnnnnnn nnnnnnnnnn\n",
      "     9481 nnnnnnnnnn nnnnnnnnnn nnnnnnnnnn nnnnnnnnnn ttcttacctg gtgtttattc\n",
      "     9541 tgttatttac ttgtacttga cattttatct tactaatgat gtttcttttt tagcacatat\n",
      "     9601 tcagtggatg gttatgttca cacctttagt acctttctgg ataacaattg cttatatcat\n",
      "     9661 ttgtatttcc acaaagcatt tctattggtt ctttagtaat tacctaaaga gacgtgtagt\n",
      "     9721 ctttaatggt gtttccttta gtacttttga agaagctgcg ctgtgcacct ttttgttaaa\n",
      "     9781 taaagaaatg tatctaaagt tgcgtagtga tgtgctatta cctcttacgc aatataatag\n",
      "     9841 atacttagct ctttataata agtacaagta ttttagtgga gcaatggata caactagcta\n",
      "     9901 cagagaagct gcttgttgtc atcttgcaaa ggctctcaat gacttcagta actcaggttc\n",
      "     9961 tgatgttctt taccaaccac cacaaatctc tatcacctca gctgttttgc agagtggttt\n",
      "    10021 tagaaaaatg gcattcccat ctggtaaagt tgagggttgt atggtacaag taacttgtgg\n",
      "    10081 tacaactaca cttaacggtc tttggcttga tgacgtagtt tactgtccaa gacatgtgat\n",
      "    10141 ctgcacctct gaagatatgc ttaaccctaa ttatgaagat ttactcattc gtaagtctaa\n",
      "    10201 tcataatttc ttggtacagg ctggtaatgt tcaactcagg gttattggac attctatgca\n",
      "    10261 aaattgtgta cttaagctta aggttgatac agccaatcct aagacaccta agtataagtt\n",
      "    10321 tgttcgcatt caaccaggac agactttttc agtgttagct tgttacaatg gttcaccatc\n",
      "    10381 tggtgtttac caatgtgcta tgagacacaa tttcactatt aagggttcat tccttaatgg\n",
      "    10441 ttcatgtggt agtgttggtt ttaacataga ttatgactgt gtctcttttt gttacatgca\n",
      "    10501 ccatatggaa ttaccaactg gagttcatgc tggcacagac ttagaaggta acttttatgg\n",
      "    10561 accttttgtt gacaggcaaa cagcacaagc agctggtacg gacacaacta ttacagttaa\n",
      "    10621 tgttttagct tggttgtacg ctgctgttat aaatggagac aggtggtttc tcaatcgatt\n",
      "    10681 taccacaact cttaatgact ttaaccttgt ggctatgaag tacaattatg aacctctaac\n",
      "    10741 acaagaccat gttgacatac taggacctct ttctgctcaa actggaattg ccgttttaga\n",
      "    10801 tatgtgtgct tcattaaaag aattactgca aaatggtatg aatggacgta ccatattggg\n",
      "    10861 tagtgcttta ttagaagatg aatttacacc ttttgatgtt gttagacaat gctcaggtgt\n",
      "    10921 tactttccaa agtgcagtga aaagaacaat caagggtaca caccactggt tgttactcac\n",
      "    10981 aattttgact tcacttttag ttttagtcca gagtactcaa tggtctttgt tctttttttt\n",
      "    11041 gtatgaaaat gcctttttac cttttgctat gggtattatt gctatgtctg cttttgcaat\n",
      "    11101 gatgtttgtc aaacataagc atgcatttct ctgtttgttt ttgttacctt ctcttgccac\n",
      "    11161 tgtagcttat tttaatatgg tctatatgcc tgctagttgg gtgatgcgta ttatgacatg\n",
      "    11221 gttggatatg gttgatacta gtttgaagct aaaagactgt gttatgtatg catcagctgt\n",
      "    11281 agtgttacta atccttatga cagcaagaac tgtgtatgat gatggtgcta ggagagtgtg\n",
      "    11341 gacacttatg aatgtcttga cactcgttta taaagtttat tatggtaatg ctttagatca\n",
      "    11401 agccatttcc atgtgggctc ttataatctc tgttacttct aactactcag gtgtagttac\n",
      "    11461 aactgtcatg tttttggcca gaggtattgt ttttatgtgt gttgagtatt gccctatttt\n",
      "    11521 cttcataact ggtaatacac ttcagtgtat aatgctagtt tattgtttct taggctattt\n",
      "    11581 ttgtacttgt tactttggcc tcttttgttt actcaaccgc tactttagac tgactcttgg\n",
      "    11641 tgtttatgat tacttagttt ctacacagga gtttagatat atgaattcac agggactact\n",
      "    11701 cccacccaag aatagcatag atgccttcaa actcaacatt aaattgttgg gtgttggtgg\n",
      "    11761 caaaccttgt atcaaagtag ccactgtaca gtctaaaatg tcagatgtaa agtgcacatc\n",
      "    11821 agtagtctta ctctcagttt tgcaacaact cagagtagaa tcatcatcta aattgtgggc\n",
      "    11881 tcaatgtgtc cagttacaca atgacattct cttagctaaa gatactactg aagcctttga\n",
      "    11941 aaaaatggtt tcactacttt ctgttttgct ttccatgcag ggtgctgtag acataaacaa\n",
      "    12001 gctttgtgaa gaaatgctgg acaacagggc aaccttacaa gctatagcct cagagtttag\n",
      "    12061 ttcccttcca tcatatgcag cttttgctac tgctcaagaa gcttatgaac aggctgttgc\n",
      "    12121 taatggtgat tctgaagttg ttcttaaaaa gttgaagaag tctttgaatg tggctaaatc\n",
      "    12181 tgaatttgac cgtgatgcag ccatgcaacg taagttggaa aagatggctg atcaagctat\n",
      "    12241 gacccaaatg tataaacagg ctagatctga ggacaagagg gcaaaagtta ctagtgctat\n",
      "    12301 gcagacaatg cttttcacta tgcttagaaa gttggataat gatgcactca acaacattat\n",
      "    12361 caacaatgca agagatggtt gtgttccctt gaacataata cctcttacaa cagcagccaa\n",
      "    12421 actaatggtt gttataccag actataacac atataaaaat acgtgtgatg gtacaacatt\n",
      "    12481 tacttatgca tcagcattgt gggaaatcca acaggttgta gatgcagata gtaaaattgt\n",
      "    12541 tcaacttagt gaaattagta tggacaattc acctaattta gcatggcctc ttattgtaac\n",
      "    12601 agctttaagg gccaattctg ctgtcaaatt acagaataat gagcttagtc ctgttgcact\n",
      "    12661 acgacagatg tcttgtgctg ccggtactac acaaactgct tgcactgatg acaatgcgtt\n",
      "    12721 agcttactac aacacaacaa agggaggtag gtttgtactt gcactgttat ccgatttaca\n",
      "    12781 ggatttgaaa tgggctagat tccctaagag tgatggaact ggtactattt atacagaact\n",
      "    12841 ggaaccacct tgtaggtttg ttacagacac acctaaaggt cctaaagtga agtatttata\n",
      "    12901 ctttattaaa ggattaaaca acctaaatag aggtatggta cttggtagtt tagctgccac\n",
      "    12961 agtacgtcta caagctggta atgcaacaga agtgcctgcc aattcaactg tattatcttt\n",
      "    13021 ctgtgctttt gctgtagatg ctgctaaagc ttacaaagat tatctagcta gtgggggaca\n",
      "    13081 accaatcact aattgtgtta agatgttgtg tacacacact ggtactggtc aggcaataac\n",
      "    13141 agttacaccg gaagccaata tggatcaaga atcctttggt ggtgcatcgt gttgtctgta\n",
      "    13201 ctgccgttgc cacatagatc atccaaatcc taaaggattt tgtgacttaa aaggtaagta\n",
      "    13261 tgtacaaata cctacaactt gtgctaatga ccctgtgggt tttacactta aaaacacagt\n",
      "    13321 ctgtaccgtc tgcggtatgt ggaaaggtta tggctgtagt tgtgatcaac tccgcgaacc\n",
      "    13381 catgcttcag tcagctgatg cacaatcgtt tttaaacggg tttgcggtgt aagtgcagcc\n",
      "    13441 cgtcttacac cgtgcggcac aggcactagt actgatgtcg tatacagggc ttttgacatc\n",
      "    13501 tacaatgata aagtagctgg ttttgctaaa ttcctaaaaa ctaattgttg tcgcttccaa\n",
      "    13561 gaaaaggacg aagatgacaa tttaattgat tcttactttg tagttaagag acacactttc\n",
      "    13621 tctaactacc aacatgaaga aacaatttat aatttactta aggattgtcc agctgttgct\n",
      "    13681 aaacatgact tctttaagtt tagaatagac ggtgacatgg taccacatat atcacgtcaa\n",
      "    13741 cgtcttacta aatacacaat ggcagacctc gtctatgctt taaggcattt tgatgaaggt\n",
      "    13801 aattgtgaca cattaaaaga aatacttgtc acatacaatt gttgtgatga tgattatttc\n",
      "    13861 aataaaaagg actggtatga ttttgtagaa aacccagata tattacgcgt atacgccaac\n",
      "    13921 ttaggtgaac gtgtacgcca agctttgtta aaaacagtac aattctgtga tgccatgcga\n",
      "    13981 aatgctggta ttgttggtgt actgacatta gataatcaag atctcaatgg taactggtat\n",
      "    14041 gatttcggtg atttcataca aaccacgcca ggtagtggag ttcctgttgt agattcttat\n",
      "    14101 tattcattgt taatgcctat attaaccttg accagggctt taactgcaga gtcacatgtt\n",
      "    14161 gacactgact taacaaagcc ttacattaag tgggatttgt taaaatatga cttcacggaa\n",
      "    14221 gagaggttaa aactctttga ccgttatttt aaatattggg atcagacata ccacccaaat\n",
      "    14281 tgtgttaact gtttggatga cagatgcatt ctgcattgtg caaactttaa tgttttattc\n",
      "    14341 tctacagtgt tcccacttac aagttttgga ccactagtga gaaaaatatt tgttgatggt\n",
      "    14401 gttccatttg tagtttcaac tggataccac ttcagagagc taggtgttgt acataatcag\n",
      "    14461 gatgtaaact tacatagctc tagacttagt tttaaggaat tacttgtgta tgctgctgac\n",
      "    14521 cctgctatgc acgctgcttc tggtaatcta ttactagata aacgcactac gtgcttttca\n",
      "    14581 gtagctgcac ttactaacaa tgttgctttt caaactgtca aacccggtaa ttttaacaaa\n",
      "    14641 gacttctatg actttgctgt gtctaagggt ttctttaagg aaggaagttc tgttgaatta\n",
      "    14701 aaacacttct tctttgctca ggatggtaat gctgctatca gcgattatga ctactatcgt\n",
      "    14761 tataatctac caacaatgtg tgatatcaga caactactat ttgtagttga agttgttgat\n",
      "    14821 aagtactttg attgttacga tggtggctgt attaatgcta accaagtcat cgtcaacaac\n",
      "    14881 ctagacaaat cagctggttt tccatttaat aaatggggta aggctagact ttattatgat\n",
      "    14941 tcaatgagtt atgaggatca agatgcactt ttcgcatata caaaacgtaa tgtcatccct\n",
      "    15001 actataactc aaatgaatct taagtatgcc attagtgcaa agaatagagc tcgcaccgta\n",
      "    15061 gctggtgtct ctatctgtag tactatgacc aatagacagt ttcatcaaaa attattgaaa\n",
      "    15121 tcaatagccg ccactagagg agctactgta gtaattggaa caagcaaatt ctatggtggt\n",
      "    15181 tggcacaaca tgttaaaaac tgtttatagt gatgtagaaa accctcacct tatgggttgg\n",
      "    15241 gattatccta aatgtgatag agccatgcct aacatgctta gaattatggc ctcacttgtt\n",
      "    15301 cttgctcgca aacatacaac gtgttgtagc ttgtcacacc gtttctatag attagctaat\n",
      "    15361 gagtgtgctc aagtattgag tgaaatggtc atgtgtggcg gttcactata tgttaaacca\n",
      "    15421 ggtggaacct catcaggaga tgccacaact gcttatgcta atagtgtttt taacatttgt\n",
      "    15481 caagctgtca cggccaatgt taatgcactt ttatctactg atggtaacaa aattgccgat\n",
      "    15541 aagtatgtcc gcaatttaca acacagactt tatgagtgtc tctatagaaa tagagatgtt\n",
      "    15601 gacacagact ttgtgaatga gttttacgca tatttgcgta aacatttctc aatgatgata\n",
      "    15661 ctttctgatg atgctgttgt gtgttttaat agcacttatg catctcaagg tctagtggct\n",
      "    15721 agcataaaga actttaagtc agttctttat tatcaaaaca atgtttttat gtctgaagca\n",
      "    15781 aaatgttgga ctgagactga ccttactaaa ggacctcatg aattttgctc tcaacataca\n",
      "    15841 atgctagtta aacagggtga tgattatgtg taccttcctt acccagatcc atcaagaatc\n",
      "    15901 ctaggggctg gctgttttgt agatgatatc gtaaaaacag atggtacact tatgattgaa\n",
      "    15961 cggttcgtgt ctttagctat agatgcttac ccacttacta aacatcctaa tcaggagtat\n",
      "    16021 gctgatgtct ttcatttgta cttacaatac ataagaaagc tacatgatga gttaacagga\n",
      "    16081 cacatgttag acatgtattc tgttatgctt actaatgata acacttcaag gtattgggaa\n",
      "    16141 cctgagtttt atgaggctat gtacacaccg catacagtct tacaggctgt tggggcttgt\n",
      "    16201 gttctttgca attcacagac ttcattaaga tgtggtgctt gcatacgtag accattctta\n",
      "    16261 tgttgtaaat gctgttacga ccatgtcata tcaacatcac ataaattagt cttgtctgtt\n",
      "    16321 aatccgtatg tttgcaatgc tccaggttgt gatgtcacag atgtgactca actttactta\n",
      "    16381 ggaggtatga gctattattg taaatcacat aaaccaccca ttagttttcc attgtgtgct\n",
      "    16441 aatggacaag tttttggttt atataaaaat acatgtgttg gtagcgataa tgttactgac\n",
      "    16501 tttaatgcaa ttgcaacatg tgactggaca aatgctggtg attacatttt agctaacacc\n",
      "    16561 tgtactgaaa gactcaagct ttttgcagca gaaacgctca aagctactga ggagacattt\n",
      "    16621 aaactgtctt atggtattgc tactgtacgt gaagtgctgt ctgacagaga attacatctt\n",
      "    16681 tcatgggaag ttggtaaacc tagaccacca cttaaccgaa attatgtctt tactggttat\n",
      "    16741 cgtgtaacta aaaacagtaa agtacaaata ggagagtaca cctttgaaaa aggtgactat\n",
      "    16801 ggtgatgctg ttgtttaccg aggtacaaca acttacaaat taaatgttgg tgattatttt\n",
      "    16861 gtgctgacat cacatacagt aatgccatta agtgcaccta cattagtgcc acaagagcac\n",
      "    16921 tatgttagaa ttactggctt atacccaaca ctcaatatct cagatgagtt ttctagcaat\n",
      "    16981 gttgcaaatt atcaaaaggt tggtatgcaa aagtattcta cactccaggg accacctggt\n",
      "    17041 actggtaaga gtcattttgc tattggccta gctctctact acccttctgc tcgcatagtg\n",
      "    17101 tatacagctt gctctcatgc cgctgttgat gcactatgtg agaaggcatt aaaatatttg\n",
      "    17161 cctatagata aatgtagtag aattatacct gcacgtgctc gtgtagagtg ttttgataaa\n",
      "    17221 ttcaaagtga attcaacatt agaacagtat gtcttttgta ctgtaaatgc attgcctgag\n",
      "    17281 acgacagcag atatagttgt ctttgatgaa atttcaatgg ccacaaatta tgatttgagt\n",
      "    17341 gttgtcaatg ccagattatg tgctaagcac tatgtgtaca ttggcgaccc tgctcaatta\n",
      "    17401 cctgcaccac gcacattgct aactaagggc acactagaac cagaatattt caattcagtg\n",
      "    17461 tgtagactta tgaaaactat aggtccagac atgttcctcg gaacttgtcg gcgttgtcct\n",
      "    17521 gctgaaattg ttgacactgt gagtgctttg gtttatgata ataagcttaa agcacataaa\n",
      "    17581 gacaaatcag ctcaatgctt taaaatgttt tataagggtg ttatcacgca tgatgtttca\n",
      "    17641 tctgcaatta acaggccaca aataggcgtg gtaagagaat tccttacacg taaccctgct\n",
      "    17701 tggagaaaag ctgtctttat ttcaccttat aattcacaga atgctgtagc ctcaaagatt\n",
      "    17761 ttgggactac caactcaaac tgttgattca tcacagggct cagaatatga ctatgtcata\n",
      "    17821 ttcactcaaa ccactgaaac agctcactct tgtaatgtaa acagatttaa tgttgctatt\n",
      "    17881 accagagcaa aagtaggcat actttgcata atgtctgata gagaccttta tgacaagttg\n",
      "    17941 caatttacaa gtcttgaaat tccacgtagg aatgtggcaa ctttacaagc tgaaaatgta\n",
      "    18001 acaggactct ttaaagattg tagtaaggta atcactgggt tacatcctac acaggcacct\n",
      "    18061 acacacctca gtgttgacac taaattcaaa actgaaggtt tatgtgttga cgtacctggc\n",
      "    18121 atacctaagg acatgaccta tagaagactc atctctatga tgggttttaa aatgaattat\n",
      "    18181 caagttaatg gttaccctaa catgtttatc acccgcgaag aagctataag acatgtacgt\n",
      "    18241 gcatggattg gcttcgatgt cgaggggtgt catgctacta gagaagctgt tggtaccaat\n",
      "    18301 ttacctttac agctaggttt ttctacaggt gttaacctag ttgctgtacc tacaggttat\n",
      "    18361 gttgatacac ctaataatac agatttttcc agagttagtg ctaaaccacc gcctggagat\n",
      "    18421 caatttaaac acctcatacc acttatgtac aaaggacttc cttggaatgt agtgcgtata\n",
      "    18481 aagattgtac aaatgttaag tgacacactt aaaaatctct ctgacagagt cgtatttgtc\n",
      "    18541 ttatgggcac atggctttga gttgacatct atgaagtatt ttgtgaaaat aggacctgag\n",
      "    18601 cgcacctgtt gtctatgtga tagacgtgcc acatgctttt ccactgcttc agacacttat\n",
      "    18661 gcctgttggc atcattctat tggatttgat tacgtctata atccgtttat gattgatgtt\n",
      "    18721 caacaatggg gttttacagg taacctacaa agcaaccatg atctgtattg tcaagtccat\n",
      "    18781 ggtaatgcac atgtagctag ttgtgatgca atcatgacta ggtgtctagc tgtccacgag\n",
      "    18841 tgctttgtta agcgtgttga ctggactatt gaatatccta taattggtga tgaactgaag\n",
      "    18901 attaatgcgg cttgtagaaa ggttcaacac atggttgtta aagctgcatt attagcagac\n",
      "    18961 aaattcccag ttcttcacga cattggtaac cctaaagcta ttaagtgtgt acctcaagct\n",
      "    19021 gatgtagaat ggaagttcta tgatgcacag ccttgtagtg acaaagctta taaaatagaa\n",
      "    19081 gaattattct attcttatgc cacacattct gacaaattca cagatggtgt atgcctattt\n",
      "    19141 tggaattgca atgtcgatag atatcctgct aattccattg tttgtagatt tgacactaga\n",
      "    19201 gtgctatcta accttaactt gcctggttgt gatggtggca gtttgtatgt aaataaacat\n",
      "    19261 gcattccaca caccagcttt tgataaaagt gcttttgtta atttaaaaca attaccattt\n",
      "    19321 ttctattact ctgacagtcc atgtgagtct catggaaaac aagtagtgtc agacatagat\n",
      "    19381 tatgtaccac taaagtctgc tacgtgtata acacgttgca atttaggtgg tgctgtctgt\n",
      "    19441 agacatcatg ctaatgagta cagattgtat cttgatgctt ataacatgat gatctcagct\n",
      "    19501 ggctttagct tgtgggttta caaacaattt gatacttata acctctggaa cacttttaca\n",
      "    19561 agacttcaga gtttagaaaa tgtggctttt aatgttgtaa ataagggaca ctttgatgga\n",
      "    19621 caacagggtg aagtaccagt ttctatcatt aataacactg tttacacaaa agttgatggt\n",
      "    19681 gttgatgtag aattgtttga aaataaaaca acattacctg ttaatgtagc atttgagctt\n",
      "    19741 tgggctaagc gcaacattaa accagtacca gaggtgaaaa tactcaataa tttgggtgtg\n",
      "    19801 gacattgctg ctaatactgt gatctgggac tacaaaagag atgctccagc acatatatct\n",
      "    19861 actattggtg tttgttctat gactgacata gccaagaaac caattgaaac gatttgtgca\n",
      "    19921 ccactcactg tcttttttga tggtagagtt gatggtcaag tagacttatt tagaaatgcc\n",
      "    19981 cgtaatggtg ttcttattac agagggtagt gttaaaggtt tacaaccatc tgtaggtccc\n",
      "    20041 aaacaagcta gtcttaatgg agtcacatta attggagaag ccgtaaaaac acagttcaat\n",
      "    20101 tattataaga aagttgatgg tgttgtccaa caattacctg aaacttactt tactcagagt\n",
      "    20161 agaaatttac aagaatttaa acccaggagt caaatggaaa ttgatttctt agaattagct\n",
      "    20221 atggatgaat tcattgaacg gtataaatta gaaggctatg ccttcgaaca tatcgtttat\n",
      "    20281 ggagatttta gtcatagtca gttaggtggt ttacatctac tgattggact agctaaacgt\n",
      "    20341 tttaaggaat caccttttga attagaagat tttattccta tggacagtac agttaaaaac\n",
      "    20401 tatttcataa cagatgcgca aacaggttca tctaagtgtg tgtgttctgt tattgattta\n",
      "    20461 ttacttgatg attttgttga aataataaaa tcccaagatt tatctgtagt ttctaaggtt\n",
      "    20521 gtcaaagtga ctattgacta tacagaaatt tcatttatgc tttggtgtaa agatggccat\n",
      "    20581 gtagaaacat tttacccaaa attacaatct agtcaagcgt ggcaaccggg tgttgctatg\n",
      "    20641 cctaatcttt acaaaatgca aagaatgcta ttagaaaagt gtgaccttca aaattatggt\n",
      "    20701 gatagtgcaa cattacctaa aggcataatg atgaatgtcg caaaatatac tcaactgtgt\n",
      "    20761 caatatttaa acacattaac attagctgta ccctataata tgagagttat acattttggt\n",
      "    20821 gctggttctg ataaaggagt tgcaccaggt acagctgttt taagacagtg gttgcctacg\n",
      "    20881 ggtacgctgc ttgtcgattc agatcttaat gactttgtct ctgatgcaga ttcaactttg\n",
      "    20941 attggtgatt gtgcaactgt acatacagct aataaatggg atctcattat tagtgatatg\n",
      "    21001 tacgacccta agactaaaaa tgttacaaaa gaaaatgact ctaaagaggg ttttttcact\n",
      "    21061 tacatttgtg ggtttataca acaaaagcta gctcttggag gttccgtggc tataaagata\n",
      "    21121 acagaacatt cttggagtgc tgatctttat aagctcatgg gacacttcgc atggtggaca\n",
      "    21181 gcctttgtta ctaatgtgaa tgcgtcatca tctgaagcat ttttaattgg atgtaattat\n",
      "    21241 cttggcaaac cacgcgaaca aatagatggt tatgtcatgc atgcaaatta catattttgg\n",
      "    21301 aggaatacaa atccaattca gttgtcttcc tattctttat ttgacatgag taaatttccc\n",
      "    21361 cttaaattaa ggggtactgc tgttatgtct ttaaaagaag gtcaaatcaa tgatatgatt\n",
      "    21421 ttatctcttc ttagtaaagg tagacttata attagagaaa acaacagagt tgttatttct\n",
      "    21481 agtgatgttc ttgttaacaa ctaaacgaac aatgtttgtt tttcttgttt tattgccact\n",
      "    21541 agtctctagt cagtgtgtta atcttataac cagaactcaa tcatacacta attctttcac\n",
      "    21601 acgtggtgtt tattaccctg acaaagtttt cagatcctca gttttacatt caactcagga\n",
      "    21661 cttgttctta cctttctttt ccaatgttac ttggttccat gctatctctg ggaccaatgg\n",
      "    21721 tactaagagg tttgataacc ctgtcctacc atttaatgat ggtgtttatt ttgcttccac\n",
      "    21781 tgagaagtct aacataataa gaggctggat ttttggtact actttagatt cgaagaccca\n",
      "    21841 gtccctactt attgttaata acgctactaa tgttgttatt aaagtctgtg aatttcaatt\n",
      "    21901 ttgtaatgat ccatttttgg atgtttatta ccacaaaaac aacaaaagtt ggatggaaag\n",
      "    21961 tgagttcaga gtttattcta gtgcgaataa ttgcactttt gaatatgtct ctcagccttt\n",
      "    22021 tcttatggac cttgaaggaa aacagggtaa tttcaaaaat cttagggaat ttgtgtttaa\n",
      "    22081 gaatattgat ggttatttta aaatatattc taagcacacg cctattaatt tagggcgtga\n",
      "    22141 tctccctcag ggtttttcgg ctttagaacc attggtagat ttgccaatag gtattaacat\n",
      "    22201 cactaggttt caaactttac ttgctttaca tagaagttat ttgactcctg gtgattcttc\n",
      "    22261 ttcaggttgg acagctggtg ctgcagctta ttatgtgggt tatcttcaac ctaggacttt\n",
      "    22321 tctattaaaa tataatgaaa atggaaccat tacagatgct gtagactgtg cacttgaccc\n",
      "    22381 tctctcagaa acaaagtgta cgttgaaatc cttcactgta gaaaaaggaa tctatcaaac\n",
      "    22441 ttctaacttt agagtccaac caacagaatc tattgttaga tttcctaata ttacaaactt\n",
      "    22501 gtgccctttt gatgaagttt ttaacgccac cagatttgca tctgtttatg cttggaacag\n",
      "    22561 gaagagaatc agcaactgtg ttgctgatta ttctgtccta tataatttcg caccattttt\n",
      "    22621 cgcttttaag tgttatggag tgtctcctac taaattaaat gatctctgct ttactaatgt\n",
      "    22681 ctatgcagat tcatttgtaa ttagaggtaa tgaagtcagc caaatcgctc cagggcaaac\n",
      "    22741 tggaaatatt gctgattata attataaatt accagatgat tttacaggct gcgttatagc\n",
      "    22801 ttggaattct aacaagcttg attctaaggt tggtggtaat tataattacc ggtatagatt\n",
      "    22861 gtttaggaag tctaatctca aaccttttga gagagatatt tcaactgaaa tctatcaggc\n",
      "    22921 cggtaacaaa ccttgtaatg gtgttgcagg tgttaattgt tactttcctt tacaatcata\n",
      "    22981 tggtttccga cccacttatg gtgttggtca ccaaccatac agagtagtag tactttcttt\n",
      "    23041 tgaacttcta catgcaccag caactgtttg tggacctaaa aagtctacta atttggttaa\n",
      "    23101 aaacaaatgt gtcaatttca acttcaatgg tttaacaggc acaggtgttc ttactgagtc\n",
      "    23161 taacaaaaag tttctgcctt tccaacaatt tggcagagac attgctgaca ctactgatgc\n",
      "    23221 tgtccgtgat ccacagacac ttgagattct tgacattaca ccatgttctt ttggtggtgt\n",
      "    23281 cagtgttata acaccaggaa caaatacttc taaccaggtt gctgttcttt atcagggtgt\n",
      "    23341 taactgcaca gaagtccctg ttgctattca tgcagatcaa cttactccta cttggcgtgt\n",
      "    23401 ttattctaca ggttctaatg tttttcaaac acgtgcaggc tgtttaatag gggctgaata\n",
      "    23461 tgtcaacaac tcatatgagt gtgacatacc cattggtgca ggtatatgcg ctagttatca\n",
      "    23521 gactcagact aagtctcatc ggcgggcacg tagtgtagct agtcaatcca tcattgccta\n",
      "    23581 cactatgtca cttggtgcag aaaattcagt tgcttactct aataactcta ttgccatacc\n",
      "    23641 cacaaatttt actattagtg ttaccacaga aattctacca gtgtctatga tcaagacatc\n",
      "    23701 agtagattgt acaatgtaca tttgtggtga ttcaactgaa tgcagcaatc ttttgttgca\n",
      "    23761 atatggcagt ttttgtacac aattaaaacg tgctttaact ggaatagctg ttgaacaaga\n",
      "    23821 caaaaacacc caagaagttt ttgcacaagt caaacaaatt tacaaaacac caccaattaa\n",
      "    23881 atattttggt ggttttaatt tttcacaaat attaccagat ccatcaaaac caagcaagag\n",
      "    23941 gtcatttatt gaagatctac ttttcaacaa agtgacactt gcagatgctg gcttcatcaa\n",
      "    24001 acaatatggt gattgccttg gtgatattgc tgctagagac ctcatttgtg cacaaaagtt\n",
      "    24061 taacggcctt actgttttgc cacctttgct cacagatgaa atgattgctc aatacacttc\n",
      "    24121 tgcactgtta gcgggtacaa tcacttctgg ttggaccttt ggtgcaggtg ctgcattaca\n",
      "    24181 aataccattt gctatgcaaa tggcttatag gtttaatggt attggagtta cacagaatgt\n",
      "    24241 tctctatgag aaccaaaaat tgattgccaa ccaatttaat agtgctattg gcaaaattca\n",
      "    24301 agactcactt tcttccacag caagtgcact tggaaaactt caagatgtgg tcaaccataa\n",
      "    24361 tgcacaagct ttaaacacgc ttgttaaaca acttagctcc aaatttggtg caatttcaag\n",
      "    24421 tgttttaaat gatatccttt cacgtcttga caaagttgag gctgaagtgc aaattgatag\n",
      "    24481 gttgatcaca ggcagacttc aaagtttgca gacatatgtg actcaacaat taattagagc\n",
      "    24541 tgcagaaatc agatcttctg ctaatcttgc tgctactaaa atgtcagagt gtgtacttgg\n",
      "    24601 acaatcaaaa agagttgatt tttgtggaaa gggctatcat cttatgtcct tccctcagtc\n",
      "    24661 agcacctcat ggtgtagtct tcttgcatgt gacttatgtc cctgcacaag aaaagaactt\n",
      "    24721 cacaactgct cctgccattt gtcatgatgg aaaagcacac tttcctcgtg aaggtgtctt\n",
      "    24781 tgtttcaaat ggcacacact ggtttgtaac acaaaggaat ttttatgaac cacaaatcat\n",
      "    24841 tactacagac aacacatttg tgtctggtaa ctgtgatgtt gtaataggaa ttgtcaacaa\n",
      "    24901 cacagtttat gatcctttgc aacctgaatt agattcattc aaggaggagt tagataaata\n",
      "    24961 ttttaagaat catacatcac cagatgttga tttaggtgac atctctggca ttaatgcttc\n",
      "    25021 agttgtaaac attcaaaaag aaattgaccg cctcaatgag gttgccaaga atttaaatga\n",
      "    25081 atctctcatc gatctccaag aacttggaaa gtatgagcag tatataaaat ggccatggta\n",
      "    25141 catttggcta ggttttatag ctggcttgat tgccatagta atggtgacaa ttatgctttg\n",
      "    25201 ctgtatgacc agttgctgta gttgtctcaa gggctgttgt tcttgtggat cctgctgcaa\n",
      "    25261 atttgatgaa gacgactctg agccagtgct caaaggagtc aaattacatt acacataaac\n",
      "    25321 gaacttatgg atttgtttat gagaatcttc acaattggaa ctgtaacttt gaagcaaggt\n",
      "    25381 gaaatcaagg atgctactcc ttcagatttt gttcgcgcta ctgcaacgat accgatacaa\n",
      "    25441 gcctcactcc ctttcggatg gcttattgtt ggcgttgcac ttcttgctgt ttttcagagc\n",
      "    25501 gcttccaaaa tcataactct caaaaagaga tggcaactag cactctccaa gggtgttcac\n",
      "    25561 tttgtttgca acttgctgtt gttgtttgta acagtttact cacacctttt gctcgttgct\n",
      "    25621 gctggccttg aagccccttt tctctatctt tatgctttag tctacttctt gcagagtata\n",
      "    25681 aactttgtaa gaataataat gaggctttgg ctttgctgga aatgccgttc caaaaaccca\n",
      "    25741 ttactttatg atgccaacta ttttctttgc tggcatacta attgttacga ctattgtata\n",
      "    25801 ccttacaata gtgtaacttc ttcaattgtc attacttcag gtgatggcac aacaagtcct\n",
      "    25861 atttctgaac atgactacca gattggtggt tatactgaaa aatgggaatc tggagtaaaa\n",
      "    25921 gactgtgttg tattacacag ttacttcact tcagactatt accagctgta ctcaactcaa\n",
      "    25981 ttgagtacag acattggtgt tgaacatgtt accttcttca tctacaataa aattgttgat\n",
      "    26041 gagcctgaag aacatgtcca aattcacaca atcgacggtt catccggagt tgttaatcca\n",
      "    26101 gtaatggaac caatttatga tgaaccgacg acgactacta gcgtgccttt gtaagcacaa\n",
      "    26161 gctgatgagt acgaacttat gtactcattc gtttcggaag agataggtac gttaatagtt\n",
      "    26221 aatagcgtac ttctttttct tgctttcgtg gtattcttgc tagttacact agccatcctt\n",
      "    26281 actgcgcttc gattgtgtgc gtactgctgc aatattgtta acgtgagtct tgtaaaacct\n",
      "    26341 tctttttacg tttactctcg tgttaaaaat ctgaattctt ctagagttcc tgatcttctg\n",
      "    26401 gtctaaacga actaaatatt atattagttt ttctgtttgg aactttaatt ttagccatgg\n",
      "    26461 caaattccaa cggtactatt accgttgaag agcttaaaaa gctccttgaa gaatggaacc\n",
      "    26521 tagtaatagg tttcctattc cttacatgga tttgtcttct acaatttgcc tatgccaaca\n",
      "    26581 ggaataggtt tttgtatata attaagttaa ttttcctctg gctgttatgg ccagtaactt\n",
      "    26641 taacttgttt tgtgcttgct gctgtttaca gaataaattg gatcaccggt ggaattgcta\n",
      "    26701 tcgcaatggc ttgtcttgta ggcttgatgt ggctcagcta cttcattgct tctttcagac\n",
      "    26761 tgtttgcgcg tacgcgttcc atgtggtcat tcaatccaga aactaacatt cttctcaacg\n",
      "    26821 tgccactcca tggcactatt ctgaccagac cgcttctaga aagtgaactc gtaatcggag\n",
      "    26881 ctgtgatcct tcgtggacat cttcgtattg ctggacacca tctaggacgc tgtgacatca\n",
      "    26941 aggacctgcc taaagaaatc actgttgcta cgtcacgaac gctttcttat tacaaattgg\n",
      "    27001 gagcttcgca gcgtgtagca ggtgactcag gttttgctgc atacagtcgc tacaggattg\n",
      "    27061 gcaactataa attaaacaca gaccattcca gtagcagtga caatattgct ttgcttgtac\n",
      "    27121 agtaagtgac aacagatgtt tcatctcgtt gactttcagg ttactatagc agagatatta\n",
      "    27181 ctaattatta tgaggacttt taaagtttcc atttggaatc ttgattacat cataaacctc\n",
      "    27241 ataattaaaa atttatctaa gtcactaact gagaataaat attctcaatt agatgaagag\n",
      "    27301 caaccaatgg agattgatta aacgaacatg aaaattattc ttttcttggc actgataaca\n",
      "    27361 ctcgctactt gtgagcttta tcactaccaa gagtgtgtta gaggtacaac agtactttta\n",
      "    27421 aaagaacctt gctcttctgg aacatacgag ggcaattcac cattttatcc tctagctgat\n",
      "    27481 aacaaatttg cactgacttg ctttagcact caatttgctt ttgcttgtcc tgacggcgta\n",
      "    27541 aaacacgtct atcagttacg tgccagatca gtttcaccta aactgttcat cagacaagag\n",
      "    27601 gaagttcaag aactttactc tccaattttt cttattgttg cggcaatagt gtttataaca\n",
      "    27661 ctttgcttca cactcaaaag aaagacagaa tgattgaact ttcattaatt gacttctatt\n",
      "    27721 tgtgcttttt agcctttctg ttattccttg ttttaattat gcttattatc ttttggttct\n",
      "    27781 cacttgaact gcaagatcat aatgaaactt gtcacgccta aatgaacatg aaatttcttg\n",
      "    27841 ttttcttagg aannnnnnnn nnnnnnnnnn nnnnnnnnnn nnnnnnnnnn nnacagtcat\n",
      "    27901 gtactcaaca tcaaccatat gtagttgatg acccgtgtcc tattcacttc tattctaaat\n",
      "    27961 ggtatattag agtaggagct agaaaatcag cacctttaat tgaattgtgc gtggatgagg\n",
      "    28021 ctggttctaa atcacccatt cagtacatcg atatcggtaa ttatacagtt tcctgtttac\n",
      "    28081 tttttacaat taattgccag gaacctaaat tgggtagtct tgtagtgcgt tgttcgttct\n",
      "    28141 atgaagactt tttagagtat catgacgttc gtgttgtttt agatttcatc taaacgaaca\n",
      "    28201 aacttaaatg tctgataatg gaccccaaaa tcagcgaaat gcactccgca ttacgtttgg\n",
      "    28261 tgggccctca gattcaactg gcagtaacca gaatggtggg gcgcgatcaa aacaacgtcg\n",
      "    28321 gccccagggt ttacccaata atactgcgtc ttggttcacc gctctcactc aacatggcaa\n",
      "    28381 ggaagacctt aaattccctc gaggacaagg cgttccaatt aacaccaata gcagtccaga\n",
      "    28441 tgaccaaatt ggctactacc gaagagctac cagacgaatt cgtggtggtg acggtaaaat\n",
      "    28501 gaaagatctc agtccaagat ggtatttcta ctacctagga actgggccag aagctggact\n",
      "    28561 tccctatggt gctaacaaag acggcatcat atgggttgca actgagggag ccttgaatac\n",
      "    28621 accaaaagat cacattggca cccgcaatcc tgctaacaat gctgcaatcg tgctacaact\n",
      "    28681 tcctcaagga acaacattgc caaaaggctt ctacgcagaa gggagcagag gcggcagtca\n",
      "    28741 agcctcttct cgttcctcat cacgtagtcg caacagttca agaaattcaa ctccaggcag\n",
      "    28801 cagtaaacga acttctcctg ctagaatggc tggcaatggc ggtgatgctg ctcttgcttt\n",
      "    28861 gctgctgctt gacagattga accagcttga gagcaaaatg tctggtaaag gccaacaaca\n",
      "    28921 acaaggccaa actgtcacta agaaatctgc tgctgaggct tctaagaagc ctcggcaaaa\n",
      "    28981 acgtactgcc actaaagcat acaatgtaac acaagctttc ggcagacgtg gtccagaaca\n",
      "    29041 aacccaagga aattttgggg accaggaact aatcagacaa ggaactgatt acaaacattg\n",
      "    29101 gccgcaaatt gcacaatttg cccccagcgc ttcagcgttc ttcggaatgt cgcgcattgg\n",
      "    29161 catggaagtc acaccttcgg gaacgtggtt gacctacaca ggtgccatca aattggatga\n",
      "    29221 caaagatcca aatttcaaag atcaagtcat tttgctgaat aagcatattg acgcatacaa\n",
      "    29281 aacattccca ccaacagagc ctaaaaagga caaaaagaag aaggctgatg aaactcaagc\n",
      "    29341 cttaccgcag agacagaaga aacagcaaac tgtgactctt cttcctgctg cagatttgga\n",
      "    29401 tgatttctcc aaacaattgc aacaatccat gagccgtgct gactcaactc aggcctaaac\n",
      "    29461 tcatgcagnn nnnnnnnnnn nnnnnnnnnn nnnnnnnnnn nncgcttttc cgtttacgat\n",
      "    29521 atatagtcta ctcttgtgca gaatgaattc tcgtaactac atagcacaag tagatgtagt\n",
      "    29581 taactttaat ctcacatagc aatctttaat cagtgtgtaa cattagggag gacttgaaag\n",
      "    29641 agccaccaca ttttcaccta cagtgaacaa tgctagggag agctg\n",
      "//\n",
      "\n",
      "\n"
     ]
    }
   ],
   "source": [
    "handle = Entrez.efetch(db=\"nucleotide\", id=\"2531721439\", rettype=\"gb\", retmode=\"text\")\n",
    "print(handle.read())"
   ]
  },
  {
   "cell_type": "markdown",
   "metadata": {},
   "source": [
    "Similarly, apart from the term, we can use the chaining method using regular expression. This lists the IDs associated with accD (the gene name) and the organism E. Coli:"
   ]
  },
  {
   "cell_type": "code",
   "execution_count": 42,
   "metadata": {},
   "outputs": [],
   "source": [
    "handle = Entrez.esearch(db='nucleotide', term='accD[Gene Name] AND \"E. coli\"[Organism]', retmax=\"20\")\n",
    "result_list = Entrez.read(handle)"
   ]
  },
  {
   "cell_type": "code",
   "execution_count": 43,
   "metadata": {},
   "outputs": [
    {
     "name": "stdout",
     "output_type": "stream",
     "text": [
      "['2540286096', '2540285939', '2540285880', '2540285612', '2540285515', '2540285302', '2540285285', '2540281271', '2540281265', '2540281264', '2536864279', '2535150858', '2535150857', '2535150855', '2535150854', '2535150853', '2535150852', '2535150851', '2535150850', '2535150844']\n",
      "\n",
      "\n",
      "220644\n"
     ]
    }
   ],
   "source": [
    "id_list = result_list['IdList']\n",
    "count = result_list['Count']\n",
    "\n",
    "print(id_list)\n",
    "print(\"\\n\")\n",
    "print(count)"
   ]
  },
  {
   "cell_type": "code",
   "execution_count": 44,
   "metadata": {},
   "outputs": [],
   "source": [
    "handle.close()"
   ]
  },
  {
   "cell_type": "markdown",
   "metadata": {},
   "source": [
    "------------------------------------------------------"
   ]
  },
  {
   "cell_type": "markdown",
   "metadata": {},
   "source": [
    "# 3. PDB"
   ]
  },
  {
   "cell_type": "markdown",
   "metadata": {},
   "source": [
    "This section fetches protein structures from PDB (Protein Data Bank), using the PDB module from Biopython to fetch, parse, and filter details of protein sequences from the PDB database."
   ]
  },
  {
   "cell_type": "markdown",
   "metadata": {},
   "source": [
    "### Import Modules"
   ]
  },
  {
   "cell_type": "code",
   "execution_count": 45,
   "metadata": {},
   "outputs": [],
   "source": [
    "from Bio.PDB import PDBParser,PDBList"
   ]
  },
  {
   "cell_type": "markdown",
   "metadata": {},
   "source": [
    "Details about the PDBParser module:"
   ]
  },
  {
   "cell_type": "code",
   "execution_count": 46,
   "metadata": {},
   "outputs": [
    {
     "name": "stdout",
     "output_type": "stream",
     "text": [
      "Help on class PDBParser in module Bio.PDB.PDBParser:\n",
      "\n",
      "class PDBParser(builtins.object)\n",
      " |  PDBParser(PERMISSIVE=True, get_header=False, structure_builder=None, QUIET=False, is_pqr=False)\n",
      " |  \n",
      " |  Parse a PDB file and return a Structure object.\n",
      " |  \n",
      " |  Methods defined here:\n",
      " |  \n",
      " |  __init__(self, PERMISSIVE=True, get_header=False, structure_builder=None, QUIET=False, is_pqr=False)\n",
      " |      Create a PDBParser object.\n",
      " |      \n",
      " |      The PDB parser call a number of standard methods in an aggregated\n",
      " |      StructureBuilder object. Normally this object is instantiated by the\n",
      " |      PDBParser object itself, but if the user provides his/her own\n",
      " |      StructureBuilder object, the latter is used instead.\n",
      " |      \n",
      " |      Arguments:\n",
      " |       - PERMISSIVE - Evaluated as a Boolean. If false, exceptions in\n",
      " |         constructing the SMCRA data structure are fatal. If true (DEFAULT),\n",
      " |         the exceptions are caught, but some residues or atoms will be missing.\n",
      " |         THESE EXCEPTIONS ARE DUE TO PROBLEMS IN THE PDB FILE!.\n",
      " |       - get_header - unused argument kept for historical compatibility.\n",
      " |       - structure_builder - an optional user implemented StructureBuilder class.\n",
      " |       - QUIET - Evaluated as a Boolean. If true, warnings issued in constructing\n",
      " |         the SMCRA data will be suppressed. If false (DEFAULT), they will be shown.\n",
      " |         These warnings might be indicative of problems in the PDB file!\n",
      " |       - is_pqr - Evaluated as a Boolean. Specifies the type of file to be parsed.\n",
      " |         If false (DEFAULT) a .pdb file format is assumed. Set it to true if you\n",
      " |         want to parse a .pqr file instead.\n",
      " |  \n",
      " |  get_header(self)\n",
      " |      Return the header.\n",
      " |  \n",
      " |  get_structure(self, id, file)\n",
      " |      Return the structure.\n",
      " |      \n",
      " |      Arguments:\n",
      " |       - id - string, the id that will be used for the structure\n",
      " |       - file - name of the PDB file OR an open filehandle\n",
      " |  \n",
      " |  get_trailer(self)\n",
      " |      Return the trailer.\n",
      " |  \n",
      " |  ----------------------------------------------------------------------\n",
      " |  Data descriptors defined here:\n",
      " |  \n",
      " |  __dict__\n",
      " |      dictionary for instance variables (if defined)\n",
      " |  \n",
      " |  __weakref__\n",
      " |      list of weak references to the object (if defined)\n",
      "\n"
     ]
    }
   ],
   "source": [
    "help(PDBParser)"
   ]
  },
  {
   "cell_type": "markdown",
   "metadata": {},
   "source": [
    "Details about the PDBList module:"
   ]
  },
  {
   "cell_type": "code",
   "execution_count": 47,
   "metadata": {},
   "outputs": [
    {
     "name": "stdout",
     "output_type": "stream",
     "text": [
      "Help on class PDBList in module Bio.PDB.PDBList:\n",
      "\n",
      "class PDBList(builtins.object)\n",
      " |  PDBList(server='ftp://ftp.wwpdb.org', pdb=None, obsolete_pdb=None, verbose=True)\n",
      " |  \n",
      " |  Quick access to the structure lists on the PDB or its mirrors.\n",
      " |  \n",
      " |  This class provides quick access to the structure lists on the\n",
      " |  PDB server or its mirrors. The structure lists contain\n",
      " |  four-letter PDB codes, indicating that structures are\n",
      " |  new, have been modified or are obsolete. The lists are released\n",
      " |  on a weekly basis.\n",
      " |  \n",
      " |  It also provides a function to retrieve PDB files from the server.\n",
      " |  To use it properly, prepare a directory /pdb or the like,\n",
      " |  where PDB files are stored.\n",
      " |  \n",
      " |  All available file formats (PDB, PDBx/mmCif, PDBML, mmtf) are supported.\n",
      " |  Please note that large structures (containing >62 chains\n",
      " |  and/or 99999 ATOM lines) are no longer stored as a single PDB file\n",
      " |  and by default (when PDB format selected) are not downloaded.\n",
      " |  \n",
      " |  Large structures can be downloaded in other formats, including PDBx/mmCif\n",
      " |  or as a .tar file (a collection of PDB-like formatted files for a given\n",
      " |  structure).\n",
      " |  \n",
      " |  If you want to use this module from inside a proxy, add\n",
      " |  the proxy variable to your environment, e.g. in Unix:\n",
      " |  export HTTP_PROXY='http://realproxy.charite.de:888'\n",
      " |  (This can also be added to ~/.bashrc)\n",
      " |  \n",
      " |  Methods defined here:\n",
      " |  \n",
      " |  __init__(self, server='ftp://ftp.wwpdb.org', pdb=None, obsolete_pdb=None, verbose=True)\n",
      " |      Initialize the class with the default server or a custom one.\n",
      " |      \n",
      " |      Argument pdb is the local path to use, defaulting to the current\n",
      " |      directory at the moment of initialisation.\n",
      " |  \n",
      " |  download_all_assemblies(self, listfile=None, file_format=None)\n",
      " |      Retrieve all biological assemblies not in the local PDB copy.\n",
      " |      \n",
      " |      :type  listfile: str, optional\n",
      " |      :param listfile: file name to which all assembly codes will be written\n",
      " |      \n",
      " |      :type  file_format: str, optional\n",
      " |      :param file_format: format in which to download the entries. Available\n",
      " |          options are \"mmCif\" or \"pdb\". Defaults to mmCif.\n",
      " |  \n",
      " |  download_entire_pdb(self, listfile=None, file_format=None)\n",
      " |      Retrieve all PDB entries not present in the local PDB copy.\n",
      " |      \n",
      " |      :param listfile: filename to which all PDB codes will be written (optional)\n",
      " |      \n",
      " |      :param file_format:\n",
      " |          File format. Available options:\n",
      " |      \n",
      " |          * \"mmCif\" (default, PDBx/mmCif file),\n",
      " |          * \"pdb\" (format PDB),\n",
      " |          * \"xml\" (PMDML/XML format),\n",
      " |          * \"mmtf\" (highly compressed),\n",
      " |          * \"bundle\" (PDB formatted archive for large structure)\n",
      " |      \n",
      " |      NOTE. The default download format has changed from PDB to PDBx/mmCif\n",
      " |  \n",
      " |  download_obsolete_entries(self, listfile=None, file_format=None)\n",
      " |      Retrieve all obsolete PDB entries not present in local obsolete PDB copy.\n",
      " |      \n",
      " |      :param listfile: filename to which all PDB codes will be written (optional)\n",
      " |      \n",
      " |      :param file_format: file format. Available options:\n",
      " |          \"mmCif\" (default, PDBx/mmCif file),\n",
      " |          \"pdb\" (format PDB),\n",
      " |          \"xml\" (PMDML/XML format),\n",
      " |      \n",
      " |      NOTE. The default download format has changed from PDB to PDBx/mmCif\n",
      " |  \n",
      " |  download_pdb_files(self, pdb_codes, obsolete=False, pdir=None, file_format=None, overwrite=False)\n",
      " |      Fetch set of PDB structure files from the PDB server and stores them locally.\n",
      " |      \n",
      " |      The PDB structure's file name is returned as a single string.\n",
      " |      If obsolete ``==`` True, the files will be saved in a special file tree.\n",
      " |      \n",
      " |      :param pdb_codes: a list of 4-symbols structure Ids from PDB\n",
      " |      :type pdb_codes: list of strings\n",
      " |      \n",
      " |      :param file_format:\n",
      " |          File format. Available options:\n",
      " |      \n",
      " |          * \"mmCif\" (default, PDBx/mmCif file),\n",
      " |          * \"pdb\" (format PDB),\n",
      " |          * \"xml\" (PMDML/XML format),\n",
      " |          * \"mmtf\" (highly compressed),\n",
      " |          * \"bundle\" (PDB formatted archive for large structure)\n",
      " |      \n",
      " |      :param overwrite: if set to True, existing structure files will be overwritten. Default: False\n",
      " |      :type overwrite: bool\n",
      " |      \n",
      " |      :param obsolete:\n",
      " |          Has a meaning only for obsolete structures.\n",
      " |          If True, download the obsolete structure\n",
      " |          to 'obsolete' folder, otherwise download won't be performed.\n",
      " |          This option doesn't work for mmtf format as obsoleted structures are not available as mmtf.\n",
      " |          (default: False)\n",
      " |      \n",
      " |      :type obsolete: bool\n",
      " |      \n",
      " |      :param pdir: put the file in this directory (default: create a PDB-style directory tree)\n",
      " |      :type pdir: string\n",
      " |      \n",
      " |      :return: filenames\n",
      " |      :rtype: string\n",
      " |  \n",
      " |  get_all_assemblies(self, file_format='mmCif')\n",
      " |      Retrieve the list of PDB entries with an associated bio assembly.\n",
      " |      \n",
      " |      The requested list will be cached to avoid multiple calls to the FTP\n",
      " |      server.\n",
      " |      \n",
      " |      :type  file_format: str, optional\n",
      " |      :param file_format: format in which to download the entries. Available\n",
      " |          options are \"mmCif\" or \"pdb\". Defaults to mmCif.\n",
      " |  \n",
      " |  get_all_entries(self)\n",
      " |      Retrieve the big file containing all the PDB entries and some annotation.\n",
      " |      \n",
      " |      Returns a list of PDB codes in the index file.\n",
      " |  \n",
      " |  get_all_obsolete(self)\n",
      " |      Return a list of all obsolete entries ever in the PDB.\n",
      " |      \n",
      " |      Returns a list of all obsolete pdb codes that have ever been\n",
      " |      in the PDB.\n",
      " |      \n",
      " |      Gets and parses the file from the PDB server in the format\n",
      " |      (the first pdb_code column is the one used). The file looks\n",
      " |      like this::\n",
      " |      \n",
      " |           LIST OF OBSOLETE COORDINATE ENTRIES AND SUCCESSORS\n",
      " |          OBSLTE    31-JUL-94 116L     216L\n",
      " |          ...\n",
      " |          OBSLTE    29-JAN-96 1HFT     2HFT\n",
      " |          OBSLTE    21-SEP-06 1HFV     2J5X\n",
      " |          OBSLTE    21-NOV-03 1HG6\n",
      " |          OBSLTE    18-JUL-84 1HHB     2HHB 3HHB\n",
      " |          OBSLTE    08-NOV-96 1HID     2HID\n",
      " |          OBSLTE    01-APR-97 1HIU     2HIU\n",
      " |          OBSLTE    14-JAN-04 1HKE     1UUZ\n",
      " |          ...\n",
      " |  \n",
      " |  get_recent_changes(self)\n",
      " |      Return three lists of the newest weekly files (added,mod,obsolete).\n",
      " |      \n",
      " |      Reads the directories with changed entries from the PDB server and\n",
      " |      returns a tuple of three URL's to the files of new, modified and\n",
      " |      obsolete entries from the most recent list. The directory with the\n",
      " |      largest numerical name is used.\n",
      " |      Returns None if something goes wrong.\n",
      " |      \n",
      " |      Contents of the data/status dir (20031013 would be used);:\n",
      " |      \n",
      " |          drwxrwxr-x   2 1002     sysadmin     512 Oct  6 18:28 20031006\n",
      " |          drwxrwxr-x   2 1002     sysadmin     512 Oct 14 02:14 20031013\n",
      " |          -rw-r--r--   1 1002     sysadmin    1327 Mar 12  2001 README\n",
      " |  \n",
      " |  get_seqres_file(self, savefile='pdb_seqres.txt')\n",
      " |      Retrieve and save a (big) file containing all the sequences of PDB entries.\n",
      " |  \n",
      " |  retrieve_assembly_file(self, pdb_code, assembly_num, pdir=None, file_format=None, overwrite=False)\n",
      " |      Fetch one or more assembly structures associated with a PDB entry.\n",
      " |      \n",
      " |      Unless noted below, parameters are described in ``retrieve_pdb_file``.\n",
      " |      \n",
      " |      :type  assembly_num: int\n",
      " |      :param assembly_num: assembly number to download.\n",
      " |      \n",
      " |      :rtype : str\n",
      " |      :return: file name of the downloaded assembly file.\n",
      " |  \n",
      " |  retrieve_pdb_file(self, pdb_code, obsolete=False, pdir=None, file_format=None, overwrite=False)\n",
      " |      Fetch PDB structure file from PDB server, and store it locally.\n",
      " |      \n",
      " |      The PDB structure's file name is returned as a single string.\n",
      " |      If obsolete ``==`` True, the file will be saved in a special file tree.\n",
      " |      \n",
      " |      NOTE. The default download format has changed from PDB to PDBx/mmCif\n",
      " |      \n",
      " |      :param pdb_code: 4-symbols structure Id from PDB (e.g. 3J92).\n",
      " |      :type pdb_code: string\n",
      " |      \n",
      " |      :param file_format:\n",
      " |          File format. Available options:\n",
      " |      \n",
      " |          * \"mmCif\" (default, PDBx/mmCif file),\n",
      " |          * \"pdb\" (format PDB),\n",
      " |          * \"xml\" (PDBML/XML format),\n",
      " |          * \"mmtf\" (highly compressed),\n",
      " |          * \"bundle\" (PDB formatted archive for large structure)\n",
      " |      \n",
      " |      :type file_format: string\n",
      " |      \n",
      " |      :param overwrite: if set to True, existing structure files will be overwritten. Default: False\n",
      " |      :type overwrite: bool\n",
      " |      \n",
      " |      :param obsolete:\n",
      " |          Has a meaning only for obsolete structures. If True, download the obsolete structure\n",
      " |          to 'obsolete' folder, otherwise download won't be performed.\n",
      " |          This option doesn't work for mmtf format as obsoleted structures aren't stored in mmtf.\n",
      " |          Also doesn't have meaning when parameter pdir is specified.\n",
      " |          Note: make sure that you are about to download the really obsolete structure.\n",
      " |          Trying to download non-obsolete structure into obsolete folder will not work\n",
      " |          and you face the \"structure doesn't exists\" error.\n",
      " |          Default: False\n",
      " |      \n",
      " |      :type obsolete: bool\n",
      " |      \n",
      " |      :param pdir: put the file in this directory (default: create a PDB-style directory tree)\n",
      " |      :type pdir: string\n",
      " |      \n",
      " |      :return: filename\n",
      " |      :rtype: string\n",
      " |  \n",
      " |  update_pdb(self, file_format=None, with_assemblies=False)\n",
      " |      Update your local copy of the PDB files.\n",
      " |      \n",
      " |      I guess this is the 'most wanted' function from this module.\n",
      " |      It gets the weekly lists of new and modified pdb entries and\n",
      " |      automatically downloads the according PDB files.\n",
      " |      You can call this module as a weekly cron job.\n",
      " |  \n",
      " |  ----------------------------------------------------------------------\n",
      " |  Static methods defined here:\n",
      " |  \n",
      " |  get_status_list(url)\n",
      " |      Retrieve a list of pdb codes in the weekly pdb status file from given URL.\n",
      " |      \n",
      " |      Used by get_recent_changes. Typical contents of the list files parsed\n",
      " |      by this method is now very simply - one PDB name per line.\n",
      " |  \n",
      " |  ----------------------------------------------------------------------\n",
      " |  Data descriptors defined here:\n",
      " |  \n",
      " |  __dict__\n",
      " |      dictionary for instance variables (if defined)\n",
      " |  \n",
      " |  __weakref__\n",
      " |      list of weak references to the object (if defined)\n",
      " |  \n",
      " |  ----------------------------------------------------------------------\n",
      " |  Data and other attributes defined here:\n",
      " |  \n",
      " |  PDB_REF = '\\n    The Protein Data Bank: a computer-based arc... pp. 53...\n",
      "\n"
     ]
    }
   ],
   "source": [
    "help(PDBList)"
   ]
  },
  {
   "cell_type": "markdown",
   "metadata": {},
   "source": [
    "The structure of the 7BYR protein is downlaoded and stored:"
   ]
  },
  {
   "cell_type": "code",
   "execution_count": 48,
   "metadata": {
    "scrolled": true
   },
   "outputs": [
    {
     "name": "stdout",
     "output_type": "stream",
     "text": [
      "Structure exists: 'dir\\pdb7byr.ent' \n"
     ]
    },
    {
     "data": {
      "text/plain": [
       "'dir\\\\pdb7byr.ent'"
      ]
     },
     "execution_count": 48,
     "metadata": {},
     "output_type": "execute_result"
    }
   ],
   "source": [
    "pdbl=PDBList()\n",
    "pdbl.retrieve_pdb_file(\"7BYR\", file_format=\"pdb\", pdir=\"dir\")"
   ]
  },
  {
   "cell_type": "markdown",
   "metadata": {},
   "source": [
    "Then, the structure of the protein is read by PDBParser."
   ]
  },
  {
   "cell_type": "code",
   "execution_count": 49,
   "metadata": {},
   "outputs": [
    {
     "name": "stderr",
     "output_type": "stream",
     "text": [
      "C:\\Users\\fxy40\\anaconda3\\lib\\site-packages\\Bio\\PDB\\StructureBuilder.py:89: PDBConstructionWarning: WARNING: Chain A is discontinuous at line 26237.\n",
      "  warnings.warn(\n",
      "C:\\Users\\fxy40\\anaconda3\\lib\\site-packages\\Bio\\PDB\\StructureBuilder.py:89: PDBConstructionWarning: WARNING: Chain B is discontinuous at line 26405.\n",
      "  warnings.warn(\n",
      "C:\\Users\\fxy40\\anaconda3\\lib\\site-packages\\Bio\\PDB\\StructureBuilder.py:89: PDBConstructionWarning: WARNING: Chain C is discontinuous at line 26545.\n",
      "  warnings.warn(\n"
     ]
    }
   ],
   "source": [
    "parser = PDBParser()\n",
    "structure = parser.get_structure(\"7BYR\",\"dir/pdb7byr.ent\")"
   ]
  },
  {
   "cell_type": "markdown",
   "metadata": {},
   "source": [
    "I then used a *for* loop to identify the number of chains in the protein sequence:"
   ]
  },
  {
   "cell_type": "code",
   "execution_count": 50,
   "metadata": {},
   "outputs": [
    {
     "name": "stdout",
     "output_type": "stream",
     "text": [
      "chainid:A\n",
      "chainid:B\n",
      "chainid:C\n",
      "chainid:H\n",
      "chainid:L\n",
      "chainid:D\n",
      "chainid:E\n",
      "chainid:F\n",
      "chainid:G\n",
      "chainid:I\n",
      "chainid:J\n"
     ]
    }
   ],
   "source": [
    "for chain in structure[0]:\n",
    "    print(f\"chainid:{chain.id}\")"
   ]
  },
  {
   "cell_type": "markdown",
   "metadata": {},
   "source": [
    "As shown, the protein structure has a total of 11 chains named in alphabetical order."
   ]
  },
  {
   "cell_type": "markdown",
   "metadata": {},
   "source": [
    "The resolution of the protein is 3.84 angstroms:"
   ]
  },
  {
   "cell_type": "code",
   "execution_count": 51,
   "metadata": {},
   "outputs": [
    {
     "data": {
      "text/plain": [
       "3.84"
      ]
     },
     "execution_count": 51,
     "metadata": {},
     "output_type": "execute_result"
    }
   ],
   "source": [
    "resolution= structure.header[\"resolution\"]\n",
    "resolution"
   ]
  },
  {
   "cell_type": "markdown",
   "metadata": {},
   "source": [
    "Using a keyboard variable, I passed in the same structure variable containing the protein structure details. From here, I fetched the header, which has the keywords that are associated with the proteins."
   ]
  },
  {
   "cell_type": "code",
   "execution_count": 52,
   "metadata": {},
   "outputs": [
    {
     "data": {
      "text/plain": [
       "'sars-cov-2, antigen, rbd, neutralizing antibody, viral protein'"
      ]
     },
     "execution_count": 52,
     "metadata": {},
     "output_type": "execute_result"
    }
   ],
   "source": [
    "keywords = structure.header[\"keywords\"]\n",
    "keywords"
   ]
  },
  {
   "cell_type": "markdown",
   "metadata": {},
   "source": [
    "As shown, the protein is a SARS-CoV-2 protein, and is associated with the keywords antigen, RBD, neutralizing antibody, and viral protein."
   ]
  },
  {
   "cell_type": "markdown",
   "metadata": {},
   "source": [
    "------------------------------------------------------"
   ]
  },
  {
   "cell_type": "markdown",
   "metadata": {},
   "source": [
    "# 4. EXPASY"
   ]
  },
  {
   "cell_type": "markdown",
   "metadata": {},
   "source": [
    "In this section, using the ExPASy module, I fetched domain details of the proteins that I retrieved and processed from the section above.\n",
    "ExPASy is an online bioinformatics resource operated by SIB (Swiss Institute of Bioinformatics). \n",
    "Prosite is a protein database, which consists of entries describing the protein families, domains and functional sites, as well as amino acid patterns and profiles in them."
   ]
  },
  {
   "cell_type": "markdown",
   "metadata": {},
   "source": [
    "## 4.1. PROSITE"
   ]
  },
  {
   "cell_type": "markdown",
   "metadata": {},
   "source": [
    "### Import Modules"
   ]
  },
  {
   "cell_type": "code",
   "execution_count": 53,
   "metadata": {},
   "outputs": [],
   "source": [
    "from Bio import ExPASy\n",
    "from Bio.ExPASy import Prosite"
   ]
  },
  {
   "cell_type": "markdown",
   "metadata": {},
   "source": [
    "In this step, I passed in the prosite ID to the ExPASy module to show the contents:"
   ]
  },
  {
   "cell_type": "code",
   "execution_count": 54,
   "metadata": {},
   "outputs": [
    {
     "name": "stdout",
     "output_type": "stream",
     "text": [
      "Coronavirus main protease (M-pro) domain profile.\n"
     ]
    }
   ],
   "source": [
    "handle = ExPASy.get_prosite_raw('PS51442')\n",
    "record = Prosite.read(handle)\n",
    "print(record.description)"
   ]
  },
  {
   "cell_type": "markdown",
   "metadata": {},
   "source": [
    "Various PDB structures possessing this domain profile can be found:"
   ]
  },
  {
   "cell_type": "code",
   "execution_count": 55,
   "metadata": {},
   "outputs": [
    {
     "name": "stdout",
     "output_type": "stream",
     "text": [
      "['1LVO', '1P9S', '1P9U', '1Q2W', '1UJ1', '1UK2', '1UK3', '1UK4', '1WOF', '1Z1I']\n"
     ]
    }
   ],
   "source": [
    "print(record.pdb_structs[:10])"
   ]
  },
  {
   "cell_type": "markdown",
   "metadata": {},
   "source": [
    "These are the proteins containing the domain profile of coronavirus main protease (M-pro)."
   ]
  },
  {
   "cell_type": "markdown",
   "metadata": {},
   "source": [
    "To find patterns in the domain, I created a similar variable handle, to which I passed in the ExPASy module followed by the prosite function, to which I passed in another ID PS00001. The prosite handle is then read."
   ]
  },
  {
   "cell_type": "code",
   "execution_count": 56,
   "metadata": {},
   "outputs": [
    {
     "name": "stdout",
     "output_type": "stream",
     "text": [
      "N-{P}-[ST]-{P}.\n"
     ]
    }
   ],
   "source": [
    "handle = ExPASy.get_prosite_raw('PS00001')\n",
    "record = Prosite.read(handle)\n",
    "print(record.pattern)"
   ]
  },
  {
   "cell_type": "markdown",
   "metadata": {},
   "source": [
    "The result shows that the common pattern within the domain is asparagine, proline, serine, and threonine. "
   ]
  },
  {
   "cell_type": "markdown",
   "metadata": {},
   "source": [
    "------------------------------------------------------"
   ]
  },
  {
   "cell_type": "markdown",
   "metadata": {},
   "source": [
    "# 5. KEGG"
   ]
  },
  {
   "cell_type": "markdown",
   "metadata": {},
   "source": [
    "In this section, I deployed the KEGG module to procure genes and the pathways from the KEGG database using the enzyme commission (EC) number, which is assigned to every enzyme which has been studied or discovered so far."
   ]
  },
  {
   "cell_type": "markdown",
   "metadata": {},
   "source": [
    "### Import Modules"
   ]
  },
  {
   "cell_type": "code",
   "execution_count": 57,
   "metadata": {},
   "outputs": [],
   "source": [
    "from Bio.KEGG import REST, Enzyme"
   ]
  },
  {
   "cell_type": "markdown",
   "metadata": {},
   "source": [
    "I created this variable named 'request' to fetch entries from the KEGG database. the 'kegg_get' function retrieves the KEGG molecule based on its EC number which is passed in as a string."
   ]
  },
  {
   "cell_type": "code",
   "execution_count": 58,
   "metadata": {},
   "outputs": [
    {
     "data": {
      "text/plain": [
       "264121"
      ]
     },
     "execution_count": 58,
     "metadata": {},
     "output_type": "execute_result"
    }
   ],
   "source": [
    "request = REST.kegg_get(\"ec:5.4.2.2\")\n",
    "open(\"ec_5.4.2.2.txt\",\"w\").write(request.read())"
   ]
  },
  {
   "cell_type": "markdown",
   "metadata": {},
   "source": [
    "In this step, I fetched the enzyme classes present or associated with the EC number 5.4.2.2."
   ]
  },
  {
   "cell_type": "code",
   "execution_count": 59,
   "metadata": {},
   "outputs": [
    {
     "data": {
      "text/plain": [
       "['Isomerases;',\n",
       " 'Intramolecular transferases;',\n",
       " 'Phosphotransferases (phosphomutases)']"
      ]
     },
     "execution_count": 59,
     "metadata": {},
     "output_type": "execute_result"
    }
   ],
   "source": [
    "records = Enzyme.parse(open(\"ec_5.4.2.2.txt\"))\n",
    "record = list(records)[0]\n",
    "record.classname"
   ]
  },
  {
   "cell_type": "markdown",
   "metadata": {},
   "source": [
    "The pathways associated with the enzyme:"
   ]
  },
  {
   "cell_type": "code",
   "execution_count": 60,
   "metadata": {},
   "outputs": [
    {
     "data": {
      "text/plain": [
       "[('PATH', 'ec00010', 'Glycolysis / Gluconeogenesis'),\n",
       " ('PATH', 'ec00030', 'Pentose phosphate pathway'),\n",
       " ('PATH', 'ec00052', 'Galactose metabolism'),\n",
       " ('PATH', 'ec00230', 'Purine metabolism'),\n",
       " ('PATH', 'ec00500', 'Starch and sucrose metabolism'),\n",
       " ('PATH', 'ec00520', 'Amino sugar and nucleotide sugar metabolism'),\n",
       " ('PATH', 'ec00521', 'Streptomycin biosynthesis'),\n",
       " ('PATH', 'ec01100', 'Metabolic pathways'),\n",
       " ('PATH', 'ec01110', 'Biosynthesis of secondary metabolites'),\n",
       " ('PATH', 'ec01120', 'Microbial metabolism in diverse environments')]"
      ]
     },
     "execution_count": 60,
     "metadata": {},
     "output_type": "execute_result"
    }
   ],
   "source": [
    "record.pathway"
   ]
  },
  {
   "cell_type": "markdown",
   "metadata": {},
   "source": [
    "The (first ten) genes associated with these pathways:"
   ]
  },
  {
   "cell_type": "code",
   "execution_count": 61,
   "metadata": {},
   "outputs": [
    {
     "data": {
      "text/plain": [
       "[('HSA', ['5236', '55276']),\n",
       " ('PTR', ['456908', '461162']),\n",
       " ('PPS', ['100977295', '100993927']),\n",
       " ('GGO', ['101128874', '101131551']),\n",
       " ('PON', ['100190836', '100438793']),\n",
       " ('NLE', ['100596081', '100600656']),\n",
       " ('HMH', ['116456694', '116457795']),\n",
       " ('MCC', ['100424648', '699401']),\n",
       " ('MCF', ['101925921', '102130622']),\n",
       " ('MTHB', ['126935012', '126954887'])]"
      ]
     },
     "execution_count": 61,
     "metadata": {},
     "output_type": "execute_result"
    }
   ],
   "source": [
    "record.genes[:10]"
   ]
  },
  {
   "cell_type": "markdown",
   "metadata": {},
   "source": [
    "I fetched the genes involved by using a *for* loop, to eliminate the numbers involved:"
   ]
  },
  {
   "cell_type": "code",
   "execution_count": 62,
   "metadata": {},
   "outputs": [
    {
     "name": "stdout",
     "output_type": "stream",
     "text": [
      "['HSA', 'PTR', 'PPS', 'GGO', 'PON', 'NLE', 'HMH', 'MCC', 'MCF', 'MTHB']\n"
     ]
    }
   ],
   "source": [
    "list_genes = []\n",
    "for x,y in record.genes:\n",
    "    list_genes += x.split(\"\\n\")\n",
    "    \n",
    "print(list_genes[:10])"
   ]
  },
  {
   "cell_type": "markdown",
   "metadata": {},
   "source": [
    "------------------------------------------------------"
   ]
  }
 ],
 "metadata": {
  "celltoolbar": "Slideshow",
  "kernelspec": {
   "display_name": "Python 3 (ipykernel)",
   "language": "python",
   "name": "python3"
  },
  "language_info": {
   "codemirror_mode": {
    "name": "ipython",
    "version": 3
   },
   "file_extension": ".py",
   "mimetype": "text/x-python",
   "name": "python",
   "nbconvert_exporter": "python",
   "pygments_lexer": "ipython3",
   "version": "3.10.9"
  }
 },
 "nbformat": 4,
 "nbformat_minor": 4
}
